{
  "nbformat": 4,
  "nbformat_minor": 0,
  "metadata": {
    "colab": {
      "name": "Sparkify_Model.ipynb",
      "provenance": [],
      "collapsed_sections": []
    },
    "kernelspec": {
      "name": "python37",
      "display_name": "Python 3.7 with Spark",
      "language": "python3"
    },
    "language_info": {
      "name": "python",
      "version": "3.7.10",
      "mimetype": "text/x-python",
      "codemirror_mode": {
        "name": "ipython",
        "version": 3
      },
      "pygments_lexer": "ipython3",
      "nbconvert_exporter": "python",
      "file_extension": ".py"
    }
  },
  "cells": [
    {
      "cell_type": "markdown",
      "metadata": {
        "id": "9bQr99XJRcN6"
      },
      "source": [
        "# Sparkify Project !"
      ]
    },
    {
      "cell_type": "markdown",
      "metadata": {
        "id": "CriIebgRjE8d"
      },
      "source": [
        "Customer engagement and churn have always been crucial subjects for businesses. Predictive analysis helps businesses to take proactive actions such as offers and discounts to retain their customers and in some cases improve loyalty. As nowadays we produce an incredible amount of data which can be used for such analysis, data science has gained great importance for companies."
      ]
    },
    {
      "cell_type": "code",
      "metadata": {
        "id": "35yD_65fRcN-",
        "outputId": "10713a24-6d76-457b-c017-3b1f0c7f9f6b"
      },
      "source": [
        "# this cell is for me to import and read file from IBM Cloud Storage\n",
        "# if you want a method on how to connect local pyspark please check cell below\n",
        "import ibmos2spark, os\n",
        "\n",
        "if os.environ.get('RUNTIME_ENV_LOCATION_TYPE') == 'external':\n",
        "    endpoint = ''\n",
        "else:\n",
        "    endpoint = ''\n",
        "\n",
        "credentials = {\n",
        "    'endpoint': endpoint,\n",
        "    'service_id': '',\n",
        "    'iam_service_endpoint': '',\n",
        "    'api_key': ''\n",
        "}\n",
        "\n",
        "configuration_name = ''\n",
        "cos = ibmos2spark.CloudObjectStorage(sc, credentials, configuration_name, 'bluemix_cos')\n",
        "\n",
        "from pyspark.sql import SparkSession\n",
        "spark = SparkSession.builder.getOrCreate()\n",
        "\n",
        "df = spark.read.json(cos.url('mini_sparkify_event_data.json', 'sparkify03-donotdelete-pr-lnug509ze2bgb5'))\n",
        "df.take(5)"
      ],
      "execution_count": null,
      "outputs": [
        {
          "output_type": "stream",
          "text": "Waiting for a Spark session to start...\nSpark Initialization Done! ApplicationId = app-20210921140406-0002\nKERNEL_ID = 59bb4f2a-8c0e-47d5-bfdd-ac4f494bdb79\n",
          "name": "stdout"
        },
        {
          "output_type": "execute_result",
          "execution_count": 1,
          "data": {
            "text/plain": "[Row(artist='Martha Tilston', auth='Logged In', firstName='Colin', gender='M', itemInSession=50, lastName='Freeman', length=277.89016, level='paid', location='Bakersfield, CA', method='PUT', page='NextSong', registration=1538173362000, sessionId=29, song='Rockpools', status=200, ts=1538352117000, userAgent='Mozilla/5.0 (Windows NT 6.1; WOW64; rv:31.0) Gecko/20100101 Firefox/31.0', userId='30'),\n Row(artist='Five Iron Frenzy', auth='Logged In', firstName='Micah', gender='M', itemInSession=79, lastName='Long', length=236.09424, level='free', location='Boston-Cambridge-Newton, MA-NH', method='PUT', page='NextSong', registration=1538331630000, sessionId=8, song='Canada', status=200, ts=1538352180000, userAgent='\"Mozilla/5.0 (Windows NT 6.1; WOW64) AppleWebKit/537.36 (KHTML, like Gecko) Chrome/37.0.2062.103 Safari/537.36\"', userId='9'),\n Row(artist='Adam Lambert', auth='Logged In', firstName='Colin', gender='M', itemInSession=51, lastName='Freeman', length=282.8273, level='paid', location='Bakersfield, CA', method='PUT', page='NextSong', registration=1538173362000, sessionId=29, song='Time For Miracles', status=200, ts=1538352394000, userAgent='Mozilla/5.0 (Windows NT 6.1; WOW64; rv:31.0) Gecko/20100101 Firefox/31.0', userId='30'),\n Row(artist='Enigma', auth='Logged In', firstName='Micah', gender='M', itemInSession=80, lastName='Long', length=262.71302, level='free', location='Boston-Cambridge-Newton, MA-NH', method='PUT', page='NextSong', registration=1538331630000, sessionId=8, song='Knocking On Forbidden Doors', status=200, ts=1538352416000, userAgent='\"Mozilla/5.0 (Windows NT 6.1; WOW64) AppleWebKit/537.36 (KHTML, like Gecko) Chrome/37.0.2062.103 Safari/537.36\"', userId='9'),\n Row(artist='Daft Punk', auth='Logged In', firstName='Colin', gender='M', itemInSession=52, lastName='Freeman', length=223.60771, level='paid', location='Bakersfield, CA', method='PUT', page='NextSong', registration=1538173362000, sessionId=29, song='Harder Better Faster Stronger', status=200, ts=1538352676000, userAgent='Mozilla/5.0 (Windows NT 6.1; WOW64; rv:31.0) Gecko/20100101 Firefox/31.0', userId='30')]"
          },
          "metadata": {}
        }
      ]
    },
    {
      "cell_type": "code",
      "metadata": {
        "id": "ZDTmY5-mx52r"
      },
      "source": [
        "'''\n",
        "in case you use local PySpark\n",
        "\n",
        "spark = SparkSession.builder \\\n",
        "    .master(\"local\") \\\n",
        "    .appName(\"Sparkify Project\") \\\n",
        "    .getOrCreate()\n",
        "\n",
        "sparkify_data = 'mini_sparkify_event_data.json'\n",
        "df = spark.read.json(sparkify_data)\n",
        "\n",
        "'''"
      ],
      "execution_count": null,
      "outputs": []
    },
    {
      "cell_type": "markdown",
      "metadata": {
        "id": "9BzaXR7eRcOA"
      },
      "source": [
        "# Import and Define Function"
      ]
    },
    {
      "cell_type": "code",
      "metadata": {
        "id": "p5_JaUIaRcOB"
      },
      "source": [
        "import os\n",
        "import re\n",
        "import copy\n",
        "import time\n",
        "import datetime\n",
        "import numpy as np\n",
        "import pandas as pd\n",
        "import seaborn as sns\n",
        "from matplotlib import pyplot as plt\n",
        "\n",
        "from pyspark.sql.types import *\n",
        "from pyspark.sql.functions import *\n",
        "from pyspark.sql import SparkSession\n",
        "\n",
        "from pyspark.ml import Pipeline\n",
        "from pyspark.ml.tuning import CrossValidator\n",
        "from pyspark.ml.evaluation import RegressionEvaluator\n",
        "from pyspark.ml.linalg import DenseVector, SparseVector\n",
        "from pyspark.ml.tuning import CrossValidator, ParamGridBuilder\n",
        "from pyspark.ml.evaluation import  MulticlassClassificationEvaluator\n",
        "from pyspark.sql.types import IntegerType, ArrayType, FloatType, DoubleType, Row, DateType\n",
        "from pyspark.ml.classification import LogisticRegression, RandomForestClassifier, GBTClassifier, NaiveBayes\n",
        "from pyspark.ml.feature import CountVectorizer, IDF, Normalizer, PCA, RegexTokenizer, StandardScaler, StopWordsRemover, StringIndexer, VectorAssembler\n",
        "\n",
        "sns.set(style=\"darkgrid\")\n",
        "%matplotlib inline"
      ],
      "execution_count": null,
      "outputs": []
    },
    {
      "cell_type": "code",
      "metadata": {
        "id": "F_UB6iaGRcOB"
      },
      "source": [
        "def create_churn_label(df):\n",
        "    \n",
        "    '''\n",
        "    INPUT:\n",
        "    df - (Spark DataFrame) df as defined at the top of the notebook \n",
        "    \n",
        "    OUTPUT:\n",
        "    churn_df - (Spark DataFrame) df with churn label column\n",
        "    \n",
        "    DESCRIPTION:\n",
        "    - create churn label column\n",
        "    '''\n",
        "    \n",
        "    churn = df.withColumn('churn',when((col('page').isin(['Cancellation Confirmation','Cancel'])) | (col('auth')=='Cancelled'),1 ).otherwise(0))\\\n",
        "    .groupby('userId').agg(sum('churn').alias('churn')).withColumn('churn', when(col('churn')>=1 ,1).otherwise(0))\n",
        "\n",
        "    churn_df = df.join(churn, on='userId')\n",
        "\n",
        "    return churn_df"
      ],
      "execution_count": null,
      "outputs": []
    },
    {
      "cell_type": "code",
      "metadata": {
        "id": "-mTTwxzORcOC"
      },
      "source": [
        "def clean_data(df):\n",
        "    \n",
        "    '''\n",
        "    INPUT:\n",
        "    df - (Spark DataFrame) [churn_df]\n",
        "    \n",
        "    OUTPUT:\n",
        "    new_df - (Spark DataFrame) df that cleaned and ready for EDA & Feature Engineering\n",
        "    \n",
        "    DESCRIPTION:\n",
        "    - casts unixtimestamp into datetime type\n",
        "    - creates month and date columns\n",
        "    - casts userId column into long type\n",
        "    - drops missing value\n",
        "    - cleanse userAgent and location columnns\n",
        "    '''\n",
        "    \n",
        "    new_df = df.filter(col('userId').isNotNull())\n",
        "    new_df = new_df.filter((col('auth')!='Logged Out') & (col('auth')!='Guest'))\n",
        "    new_df = new_df.withColumn('timeStamp', from_unixtime(col('ts').cast(LongType())/1000).cast(TimestampType()))\n",
        "    new_df = new_df.withColumn('month', month(col('timeStamp')))\n",
        "    new_df = new_df.withColumn('date', from_unixtime(col('ts')/1000).cast(DateType()))\n",
        "    new_df = new_df.withColumn('userId', col('userId').cast(LongType()))\n",
        "    new_df = new_df.withColumn('userAgent', regexp_extract('userAgent', 'Macintosh|Windows|iPad|X11|iPhone', 0))\n",
        "    cleaned_df = new_df.withColumn('location', split(col('location'),',').getItem(1))\n",
        "    \n",
        "    return cleaned_df"
      ],
      "execution_count": null,
      "outputs": []
    },
    {
      "cell_type": "code",
      "metadata": {
        "id": "mOuM5B6qRcOC"
      },
      "source": [
        "def create_nonpage_features(df):\n",
        "    \n",
        "    '''\n",
        "    INPUT:\n",
        "    df - (Spark DataFrame) [cleaned_df]\n",
        "\n",
        "    OUTPUT:\n",
        "    nonpage_df - (Spark DataFrame) df with non-page feature columns\n",
        "\n",
        "    DESCRIPTION:\n",
        "    - creates lastinteraction, account level, and average length columns\n",
        "    '''\n",
        "    \n",
        "    last_interaction =  df.groupBy('userId').agg(max('ts').alias('last_interaction'))\n",
        "    acc_level = df.orderBy('ts', ascending=False).groupBy('userId').agg(first('level').alias('acc_level'))\n",
        "    avg_length = df.groupBy('userId').avg('length').withColumnRenamed('avg(length)', 'avg_length')\n",
        "\n",
        "    new_df = df.drop('level')\n",
        "    new_df = new_df.drop('length')\n",
        "    new_df = last_interaction.join(new_df, on='userId').withColumn('registered_days', ((col('last_interaction')-col('registration'))/86400000).cast(IntegerType()))\n",
        "    \n",
        "    nonpage_df = new_df.join(acc_level, on='userId').join(avg_length, on='userId')\n",
        "    nonpage_df = nonpage_df.drop('artist','auth','firstName','gender','itemInSession','lastName','location','method','page'\\\n",
        "                                 ,'registration','sessionId','song','status','ts','userAgent','churn','timeStamp','month','date')\n",
        "    \n",
        "    return nonpage_df"
      ],
      "execution_count": null,
      "outputs": []
    },
    {
      "cell_type": "code",
      "metadata": {
        "id": "MtmQRJGARcOD"
      },
      "source": [
        "def create_page_features(df):\n",
        "    \n",
        "    '''\n",
        "    INPUT:\n",
        "    df - (Spark DataFrame) [cleaned_df]\n",
        "    \n",
        "    OUTPUT:\n",
        "    page_df - (Spark DataFrame) df with page features columns\n",
        "    \n",
        "    DESCRIPTION:\n",
        "    - group all unique pages with daily and monthly timeframe \n",
        "    to create average page visit in a specific timeframe\n",
        "    '''\n",
        "\n",
        "    new_df = df.where((col(\"page\") != \"Cancel\") & (col(\"page\") != \"CancelletionConfirmation\"))\n",
        "    distinct_list = [row.page for row in new_df.select('page').distinct().collect()]\n",
        "    \n",
        "    page_dict={}\n",
        "    for page in distinct_list:\n",
        "        page_dict.update({page:'mean'})\n",
        "        \n",
        "    #----------------------------------------------------------------------------------------------------------------------\n",
        "        \n",
        "    daily_page_event = new_df.groupby('userId','date').pivot('page').count()\n",
        "    daily_page_event = daily_page_event.join(daily_page_event.groupBy('userId').agg(page_dict).fillna(0), on='userId')\n",
        "\n",
        "    for page in distinct_list:\n",
        "        daily_page_event = daily_page_event.drop(page)  \n",
        "        daily_page_event = daily_page_event.withColumnRenamed('avg({})'.format(page), 'daily_avg_{}'.format(page))\n",
        "\n",
        "    daily_page_event = daily_page_event.drop('date')\n",
        "    daily_page_event = daily_page_event.drop_duplicates()\n",
        "    \n",
        "    #-----------------------------------------------------------------------------------------------------------------------\n",
        "    \n",
        "    monthly_page_event = new_df.groupby('userId','month').pivot('page').count()\n",
        "    monthly_page_event = monthly_page_event.join(monthly_page_event.groupBy('userId').agg(page_dict).fillna(0), on='userId')\n",
        "\n",
        "    for page in distinct_list:\n",
        "        monthly_page_event = monthly_page_event.drop(page)    \n",
        "        monthly_page_event = monthly_page_event.withColumnRenamed('avg({})'.format(page), 'monthly_avg_{}'.format(page))\n",
        "\n",
        "    monthly_page_event = monthly_page_event.drop('month').drop_duplicates()\n",
        "    monthly_page_event = monthly_page_event.drop_duplicates()\n",
        "    \n",
        "    #-----------------------------------------------------------------------------------------------------------------------\n",
        "    \n",
        "    page_df = daily_page_event.join(monthly_page_event, on='userId')\n",
        "\n",
        "    return page_df"
      ],
      "execution_count": null,
      "outputs": []
    },
    {
      "cell_type": "code",
      "metadata": {
        "id": "IVYw7awSRcOE"
      },
      "source": [
        "def create_session_features(df):\n",
        "    \n",
        "    '''\n",
        "    INPUT:\n",
        "    df - (Spark DataFrame) [cleaned_df]\n",
        "    \n",
        "    OUTPUT:\n",
        "    session_df - (Spark DataFrame) df with session feature columns\n",
        "    \n",
        "    DESCRIPTION:\n",
        "    - group session duration and session count with daily and monthly timeframe\n",
        "    to create average session statistic in each time frame\n",
        "    '''\n",
        "    \n",
        "    daily_avg_count = df.groupby('userId','date').agg(countDistinct('sessionId')).groupBy('userId')\\\n",
        "    .avg('count(DISTINCT sessionId)').withColumnRenamed('avg(count(DISTINCT sessionId))', 'daily_avg_sessions_count')\n",
        "    \n",
        "    monthly_avg_count = df.groupby('userId','month').agg(countDistinct('sessionId')).groupBy('userId')\\\n",
        "    .avg('count(DISTINCT sessionId)').withColumnRenamed('avg(count(DISTINCT sessionId))', 'monthly_avg_sessions_count')\n",
        "    \n",
        "    daily_avg_duration = df.groupby('userId','date','sessionId').agg(max('ts').alias('session_end'), min('ts').alias('session_start'))\\\n",
        "    .withColumn('session_duration_sec', (col('session_end')-col('session_start'))/1000).groupby('userId','date').avg('session_duration_sec')\\\n",
        "    .groupby('userId').agg(mean('avg(session_duration_sec)').alias('daily_avg_sessions_duration')).orderBy('userId', ascending=False)\n",
        "    \n",
        "    monthly_avg_duration = df.groupby('userId','month','sessionId').agg(max('ts').alias('session_end'), min('ts').alias('session_start'))\\\n",
        "    .withColumn('session_duration_sec', (col('session_end')-col('session_start'))/1000).groupby('userId','month').avg('session_duration_sec')\\\n",
        "    .groupby('userId').agg(mean('avg(session_duration_sec)').alias('monthly_avg_sessions_duration')).orderBy('userId', ascending=False)\n",
        "    \n",
        "    daily_avg_item_count = df.groupby('userId','date').agg(max('itemInSession'))\\\n",
        "    .groupBy('userId').avg('max(itemInSession)').withColumnRenamed('avg(max(itemInSession))', 'daily_avg_sessions_items')\n",
        "    \n",
        "    monthly_avg_item_count = df.groupby('userId','month').agg(max('itemInSession'))\\\n",
        "    .groupBy('userId').avg('max(itemInSession)').withColumnRenamed('avg(max(itemInSession))', 'monthly_avg_sessions_items')\n",
        "    \n",
        "    #---------------------------------------------------------------------------------------------------------------------------------\n",
        "\n",
        "    session_avg_count = daily_avg_count.join(monthly_avg_count, on='userId')\n",
        "    session_avg_duration = daily_avg_duration.join(monthly_avg_duration, on='userId')\n",
        "    session_avg_item_count = daily_avg_item_count.join(monthly_avg_item_count, on='userId')\n",
        "    \n",
        "    session_df = session_avg_count.join(session_avg_duration, on='userId').join(session_avg_item_count, on='userId')\n",
        "    \n",
        "    return session_df"
      ],
      "execution_count": null,
      "outputs": []
    },
    {
      "cell_type": "code",
      "metadata": {
        "id": "rQR43c2NRcOE"
      },
      "source": [
        "def features_combine(cleaned_df, nonpage_df, page_df, session_df):\n",
        "    \n",
        "    '''\n",
        "    INPUT:\n",
        "    cleaned_df - (Spark DataFrame)\n",
        "    nonpage_df - (Spark DataFrame)\n",
        "    page_df - (Spark DataFrame)\n",
        "    session_df - (Spark DataFrame)\n",
        "    \n",
        "    OUTPUT:\n",
        "    combined_df - (Spark DataFrame) df with every feature columns\n",
        "    \n",
        "    DESCRIPTION:\n",
        "    - join all DataFrame aggregate features with userId column\n",
        "    - drop duplicate row and UserId column\n",
        "    '''\n",
        "    \n",
        "    new_df = cleaned_df.select('userId', 'churn', 'gender', 'location', 'userAgent')\n",
        "    new_df = new_df.join(nonpage_df, on='userId')\n",
        "    new_df = new_df.join(page_df, on='userId')\n",
        "    new_df = new_df.join(session_df, on='userId')\n",
        "    new_df = new_df.withColumnRenamed(\"churn\", \"label\")\n",
        "    \n",
        "    combined_df = new_df.drop_duplicates()\n",
        "    combined_df = combined_df.drop('userId')\n",
        "    \n",
        "    return combined_df"
      ],
      "execution_count": null,
      "outputs": []
    },
    {
      "cell_type": "code",
      "metadata": {
        "id": "y5QhndtXRcOF"
      },
      "source": [
        "def preprocess_data(df):\n",
        "    \n",
        "    '''\n",
        "    INPUT:\n",
        "    df - (Spark DataFrame) [combined_df]\n",
        "    \n",
        "    OUTPUT:\n",
        "    feature_userAgent - (StringIndexer)\n",
        "    feature_gender - (StringIndexer)\n",
        "    feature_location - (StringIndexer)\n",
        "    feature_acc_level - (StringIndexer)\n",
        "    vector_assembler - (VectorAssembler)\n",
        "    \n",
        "    DESCRIPTION:\n",
        "    - transform features with feature pipeline\n",
        "    '''\n",
        "    \n",
        "    feature_userAgent = StringIndexer(inputCol='userAgent', outputCol='userAgent_index')\n",
        "    feature_gender = StringIndexer(inputCol='gender', outputCol='gender_index')\n",
        "    feature_location = StringIndexer(inputCol='location', outputCol='location_index')\n",
        "    feature_acc_level = StringIndexer(inputCol='acc_level', outputCol='acc_level_index')\n",
        "    print('StringIndexer Created')\n",
        "    print('...')\n",
        "\n",
        "    double_long_columns = []\n",
        "    for field in df.schema.fields :\n",
        "        if field.dataType != StringType():\n",
        "            double_long_columns.append(field.name)\n",
        "    double_long_columns.remove('label')\n",
        "    double_long_columns.append('userAgent_index')\n",
        "    double_long_columns.append('gender_index')\n",
        "    double_long_columns.append('location_index')\n",
        "    double_long_columns.append('acc_level_index')\n",
        "    print(double_long_columns, \"CHECKED\")\n",
        "    print('...')\n",
        "    \n",
        "    vector_assembler = VectorAssembler(inputCols=double_long_columns, outputCol='features')\n",
        "    process_pipeline = Pipeline(stages=[feature_userAgent, feature_gender, feature_location, feature_acc_level, vector_assembler])\n",
        "    preprocessed_df = process_pipeline.fit(df).transform(df)\n",
        "    \n",
        "    return preprocessed_df"
      ],
      "execution_count": null,
      "outputs": []
    },
    {
      "cell_type": "code",
      "metadata": {
        "id": "xeBhkgdURfZ7"
      },
      "source": [
        "def train_models(train, test, valid, ml):\n",
        "\n",
        "    '''\n",
        "    INPUT:\n",
        "    train - (Spark DataFrame)\n",
        "    test - (Spark DataFrame)\n",
        "    valid - (Spark DataFrame)\n",
        "    ml - (Pyspark ML)\n",
        "    \n",
        "    OUTPUT:\n",
        "    model - (Pyspark ML) trained model\n",
        "    pred_train - (Spark DataFrame) prediction on train dataset\n",
        "    pred_test - (Spark DataFrame) prediction on test dataset\n",
        "    pred_valid - (Spark DataFrame) prediction on valid dataset\n",
        "    \n",
        "    DESCRIPTION:\n",
        "    - fits and runs predictions with given train, test, valid data\n",
        "    - displays results for given model\n",
        "    \n",
        "    '''\n",
        "    \n",
        "    print('Training model')\n",
        "    print('...')\n",
        "    model = ml.fit(train)\n",
        "        \n",
        "    evaluator = MulticlassClassificationEvaluator(labelCol='label')\n",
        "    pred_train = model.transform(train)\n",
        "    pred_test = model.transform(test)\n",
        "    pred_valid = model.transform(valid)\n",
        "\n",
        "    print('Metrics:')\n",
        "    print('...')\n",
        "    print('Train - Accuracy: {:04.2f}% and F-1 Score: {:04.2f}%'.format(100*evaluator.evaluate(pred_train, {evaluator.metricName: \"accuracy\"}), 100*evaluator.evaluate(pred_train, {evaluator.metricName: \"f1\"})))\n",
        "    print('Test  - Accuracy: {:04.2f}% and F-1 Score: {:04.2f}%'.format(100*evaluator.evaluate(pred_test, {evaluator.metricName: \"accuracy\"}), 100*evaluator.evaluate(pred_test, {evaluator.metricName: \"f1\"})))\n",
        "    print('Valid - Accuracy: {:04.2f}% and F-1 Score: {:04.2f}%'.format(100*evaluator.evaluate(pred_valid, {evaluator.metricName: \"accuracy\"}), 100*evaluator.evaluate(pred_valid, {evaluator.metricName: \"f1\"})))\n",
        "        \n",
        "    return model, pred_train, pred_test, pred_valid"
      ],
      "execution_count": null,
      "outputs": []
    },
    {
      "cell_type": "code",
      "metadata": {
        "id": "kwDs04oYRcOF"
      },
      "source": [
        "def tune_models(train, test, valid, ml):\n",
        "\n",
        "    '''\n",
        "    INPUT:\n",
        "    train - (Spark DataFrame)\n",
        "    test - (Spark DataFrame)\n",
        "    valid - (Spark DataFrame)\n",
        "    ml - (String) choose either one of this ['Logistic Regression', 'Random Forest Classifier', 'Gradient Boosted Tree', 'Naive Bayes']\n",
        "    \n",
        "    OUTPUT:\n",
        "    model - (Pyspark ML) tuned model\n",
        "    pred_train - (Spark DataFrame) prediction on train dataset\n",
        "    pred_test - (Spark DataFrame) prediction on test dataset\n",
        "    pred_valid - (Spark DataFrame) prediction on valid dataset\n",
        "    \n",
        "    DESCRIPTION:\n",
        "    - fits and runs predictions with given train, test, valid data\n",
        "    - tune chosen machine learning model\n",
        "    - displays results for given model\n",
        "    '''\n",
        "    \n",
        "    models = {\n",
        "        'Logistic Regression': LogisticRegression(maxIter=10, labelCol=\"label\"),\n",
        "        'Random Forest Classifier': RandomForestClassifier(labelCol=\"label\"),\n",
        "        'Gradient Boosted Tree': GBTClassifier(maxIter=10, labelCol=\"label\"),\n",
        "        'Naive Bayes': NaiveBayes(labelCol=\"label\")\n",
        "    }\n",
        "    \n",
        "    paramGrid = {\n",
        "        'Logistic Regression': ParamGridBuilder()\\\n",
        "            .addGrid(models['Logistic Regression'].regParam, [0.01,0.001])\\\n",
        "            .addGrid(models['Logistic Regression'].family, ['binomial','multinomial'])\\\n",
        "            .build(),\n",
        "        'Random Forest Classifier': ParamGridBuilder()\\\n",
        "            .addGrid(models['Random Forest Classifier'].numTrees, [30, 60])\\\n",
        "            .addGrid(models['Random Forest Classifier'].maxDepth, [10, 30])\\\n",
        "            .build(),\n",
        "        'Gradient Boosted Tree': ParamGridBuilder()\\\n",
        "            .addGrid(models['Gradient Boosted Tree'].maxBins, [40, 100])\\\n",
        "            .addGrid(models['Gradient Boosted Tree'].maxDepth, [10, 30])\\\n",
        "            .build(),\n",
        "        'Naive Bayes': ParamGridBuilder()\\\n",
        "            .addGrid(models['Naive Bayes'].smoothing, [0.5,0.8])\\\n",
        "            .build()\n",
        "    }\n",
        "    \n",
        "    print('Training model')\n",
        "    print('...')\n",
        "    pipeline = Pipeline(stages = [models[ml]])\n",
        "    cv = CrossValidator(estimator = pipeline,\n",
        "                        estimatorParamMaps = paramGrid[ml],\n",
        "                        evaluator = MulticlassClassificationEvaluator(labelCol='label', metricName='f1'),\n",
        "                        numFolds = 3)\n",
        "    model = cv.fit(train)\n",
        "        \n",
        "    evaluator = MulticlassClassificationEvaluator(labelCol='label')\n",
        "    pred_train = model.transform(train)\n",
        "    pred_test = model.transform(test)\n",
        "    pred_valid = model.transform(valid)\n",
        "    print(ml + ' metrics:')\n",
        "    print('...')\n",
        "    print('Train - Accuracy: {:04.2f}% and F-1 Score: {:04.2f}%'.format(100*evaluator.evaluate(pred_train, {evaluator.metricName: \"accuracy\"}), 100*evaluator.evaluate(pred_train, {evaluator.metricName: \"f1\"})))\n",
        "    print('Test  - Accuracy: {:04.2f}% and F-1 Score: {:04.2f}%'.format(100*evaluator.evaluate(pred_test, {evaluator.metricName: \"accuracy\"}), 100*evaluator.evaluate(pred_test, {evaluator.metricName: \"f1\"})))\n",
        "    print('Valid - Accuracy: {:04.2f}% and F-1 Score: {:04.2f}%'.format(100*evaluator.evaluate(pred_valid, {evaluator.metricName: \"accuracy\"}), 100*evaluator.evaluate(pred_valid, {evaluator.metricName: \"f1\"})))\n",
        "\n",
        "    if ml == 'Random Forest Classifier':\n",
        "        bestPipeline = model.bestModel\n",
        "        for i in range(len(bestPipeline.stages[0].featureImportances)):\n",
        "            print(\"{} : {} \\n\".format(preprocessed_df.columns[i], bestPipeline.stages[0].featureImportances[i]))\n",
        "        print('Best parameters : [ max depth: {}, num Trees: {} ]'.format(bestPipeline.stages[0].getOrDefault('maxDepth'), bestPipeline.stages[0].getNumTrees))\n",
        "        \n",
        "    return model, pred_train, pred_test, pred_valid"
      ],
      "execution_count": null,
      "outputs": []
    },
    {
      "cell_type": "markdown",
      "metadata": {
        "id": "h4b8DHrsRcOF"
      },
      "source": [
        "# Exploratory Data Analysis"
      ]
    },
    {
      "cell_type": "markdown",
      "metadata": {
        "id": "OWLk58bCnb2w"
      },
      "source": [
        "check dataframe size"
      ]
    },
    {
      "cell_type": "code",
      "metadata": {
        "id": "8tWdQALaRcOG",
        "outputId": "b1ca10dc-3f07-4a14-e463-a4ae174b650a"
      },
      "source": [
        "print((df.count(), len(df.columns)))"
      ],
      "execution_count": null,
      "outputs": [
        {
          "output_type": "stream",
          "text": "(286500, 18)\n",
          "name": "stdout"
        }
      ]
    },
    {
      "cell_type": "markdown",
      "metadata": {
        "id": "jCng2TB3nkkA"
      },
      "source": [
        "examine dataframe"
      ]
    },
    {
      "cell_type": "code",
      "metadata": {
        "id": "k_SbZFUxRcOG",
        "outputId": "4edb4ebd-011a-4c4c-c59a-b6548fba3477"
      },
      "source": [
        "pd.DataFrame(df.take(20), columns=df.columns)"
      ],
      "execution_count": null,
      "outputs": [
        {
          "output_type": "execute_result",
          "execution_count": 13,
          "data": {
            "text/plain": "                                artist       auth firstName gender  \\\n0                       Martha Tilston  Logged In     Colin      M   \n1                     Five Iron Frenzy  Logged In     Micah      M   \n2                         Adam Lambert  Logged In     Colin      M   \n3                               Enigma  Logged In     Micah      M   \n4                            Daft Punk  Logged In     Colin      M   \n5             The All-American Rejects  Logged In     Micah      M   \n6        The Velvet Underground / Nico  Logged In     Micah      M   \n7                         Starflyer 59  Logged In     Colin      M   \n8                                 None  Logged In     Colin      M   \n9                             Frumpies  Logged In     Colin      M   \n10                        Britt Nicole  Logged In     Micah      M   \n11                                None  Logged In     Micah      M   \n12  Edward Sharpe & The Magnetic Zeros  Logged In     Colin      M   \n13                               Tesla  Logged In     Micah      M   \n14                                None  Logged In     Micah      M   \n15                         Stan Mosley  Logged In     Colin      M   \n16              Florence + The Machine  Logged In     Micah      M   \n17                   Tokyo Police Club  Logged In   Ashlynn      F   \n18                             Orishas  Logged In     Colin      M   \n19                             Ratatat  Logged In     Micah      M   \n\n    itemInSession  lastName     length level                        location  \\\n0              50   Freeman  277.89016  paid                 Bakersfield, CA   \n1              79      Long  236.09424  free  Boston-Cambridge-Newton, MA-NH   \n2              51   Freeman  282.82730  paid                 Bakersfield, CA   \n3              80      Long  262.71302  free  Boston-Cambridge-Newton, MA-NH   \n4              52   Freeman  223.60771  paid                 Bakersfield, CA   \n5              81      Long  208.29995  free  Boston-Cambridge-Newton, MA-NH   \n6              82      Long  260.46649  free  Boston-Cambridge-Newton, MA-NH   \n7              53   Freeman  185.44281  paid                 Bakersfield, CA   \n8              54   Freeman        NaN  paid                 Bakersfield, CA   \n9              55   Freeman  134.47791  paid                 Bakersfield, CA   \n10             83      Long  229.87710  free  Boston-Cambridge-Newton, MA-NH   \n11             84      Long        NaN  free  Boston-Cambridge-Newton, MA-NH   \n12             56   Freeman  223.58159  paid                 Bakersfield, CA   \n13             85      Long  201.06404  free  Boston-Cambridge-Newton, MA-NH   \n14             86      Long        NaN  free  Boston-Cambridge-Newton, MA-NH   \n15             57   Freeman  246.69995  paid                 Bakersfield, CA   \n16             87      Long  168.64608  free  Boston-Cambridge-Newton, MA-NH   \n17              0  Williams  166.11220  free                 Tallahassee, FL   \n18             58   Freeman  222.22322  paid                 Bakersfield, CA   \n19             88      Long  229.77261  free  Boston-Cambridge-Newton, MA-NH   \n\n   method             page   registration  sessionId  \\\n0     PUT         NextSong  1538173362000         29   \n1     PUT         NextSong  1538331630000          8   \n2     PUT         NextSong  1538173362000         29   \n3     PUT         NextSong  1538331630000          8   \n4     PUT         NextSong  1538173362000         29   \n5     PUT         NextSong  1538331630000          8   \n6     PUT         NextSong  1538331630000          8   \n7     PUT         NextSong  1538173362000         29   \n8     PUT  Add to Playlist  1538173362000         29   \n9     PUT         NextSong  1538173362000         29   \n10    PUT         NextSong  1538331630000          8   \n11    GET      Roll Advert  1538331630000          8   \n12    PUT         NextSong  1538173362000         29   \n13    PUT         NextSong  1538331630000          8   \n14    PUT        Thumbs Up  1538331630000          8   \n15    PUT         NextSong  1538173362000         29   \n16    PUT         NextSong  1538331630000          8   \n17    PUT         NextSong  1537365219000        217   \n18    PUT         NextSong  1538173362000         29   \n19    PUT         NextSong  1538331630000          8   \n\n                              song  status             ts  \\\n0                        Rockpools     200  1538352117000   \n1                           Canada     200  1538352180000   \n2                Time For Miracles     200  1538352394000   \n3      Knocking On Forbidden Doors     200  1538352416000   \n4    Harder Better Faster Stronger     200  1538352676000   \n5                   Don't Leave Me     200  1538352678000   \n6                      Run Run Run     200  1538352886000   \n7   Passengers (Old Album Version)     200  1538352899000   \n8                             None     200  1538352905000   \n9                       Fuck Kitty     200  1538353084000   \n10               Walk On The Water     200  1538353146000   \n11                            None     200  1538353150000   \n12                            Jade     200  1538353218000   \n13                  Gettin' Better     200  1538353375000   \n14                            None     307  1538353376000   \n15               So-Called Friends     200  1538353441000   \n16             You've Got The Love     200  1538353576000   \n17            Citizens Of Tomorrow     200  1538353668000   \n18                       Represent     200  1538353687000   \n19                          Swisha     200  1538353744000   \n\n                                            userAgent userId  \n0   Mozilla/5.0 (Windows NT 6.1; WOW64; rv:31.0) G...     30  \n1   \"Mozilla/5.0 (Windows NT 6.1; WOW64) AppleWebK...      9  \n2   Mozilla/5.0 (Windows NT 6.1; WOW64; rv:31.0) G...     30  \n3   \"Mozilla/5.0 (Windows NT 6.1; WOW64) AppleWebK...      9  \n4   Mozilla/5.0 (Windows NT 6.1; WOW64; rv:31.0) G...     30  \n5   \"Mozilla/5.0 (Windows NT 6.1; WOW64) AppleWebK...      9  \n6   \"Mozilla/5.0 (Windows NT 6.1; WOW64) AppleWebK...      9  \n7   Mozilla/5.0 (Windows NT 6.1; WOW64; rv:31.0) G...     30  \n8   Mozilla/5.0 (Windows NT 6.1; WOW64; rv:31.0) G...     30  \n9   Mozilla/5.0 (Windows NT 6.1; WOW64; rv:31.0) G...     30  \n10  \"Mozilla/5.0 (Windows NT 6.1; WOW64) AppleWebK...      9  \n11  \"Mozilla/5.0 (Windows NT 6.1; WOW64) AppleWebK...      9  \n12  Mozilla/5.0 (Windows NT 6.1; WOW64; rv:31.0) G...     30  \n13  \"Mozilla/5.0 (Windows NT 6.1; WOW64) AppleWebK...      9  \n14  \"Mozilla/5.0 (Windows NT 6.1; WOW64) AppleWebK...      9  \n15  Mozilla/5.0 (Windows NT 6.1; WOW64; rv:31.0) G...     30  \n16  \"Mozilla/5.0 (Windows NT 6.1; WOW64) AppleWebK...      9  \n17  \"Mozilla/5.0 (Macintosh; Intel Mac OS X 10_9_4...     74  \n18  Mozilla/5.0 (Windows NT 6.1; WOW64; rv:31.0) G...     30  \n19  \"Mozilla/5.0 (Windows NT 6.1; WOW64) AppleWebK...      9  ",
            "text/html": "<div>\n<style scoped>\n    .dataframe tbody tr th:only-of-type {\n        vertical-align: middle;\n    }\n\n    .dataframe tbody tr th {\n        vertical-align: top;\n    }\n\n    .dataframe thead th {\n        text-align: right;\n    }\n</style>\n<table border=\"1\" class=\"dataframe\">\n  <thead>\n    <tr style=\"text-align: right;\">\n      <th></th>\n      <th>artist</th>\n      <th>auth</th>\n      <th>firstName</th>\n      <th>gender</th>\n      <th>itemInSession</th>\n      <th>lastName</th>\n      <th>length</th>\n      <th>level</th>\n      <th>location</th>\n      <th>method</th>\n      <th>page</th>\n      <th>registration</th>\n      <th>sessionId</th>\n      <th>song</th>\n      <th>status</th>\n      <th>ts</th>\n      <th>userAgent</th>\n      <th>userId</th>\n    </tr>\n  </thead>\n  <tbody>\n    <tr>\n      <th>0</th>\n      <td>Martha Tilston</td>\n      <td>Logged In</td>\n      <td>Colin</td>\n      <td>M</td>\n      <td>50</td>\n      <td>Freeman</td>\n      <td>277.89016</td>\n      <td>paid</td>\n      <td>Bakersfield, CA</td>\n      <td>PUT</td>\n      <td>NextSong</td>\n      <td>1538173362000</td>\n      <td>29</td>\n      <td>Rockpools</td>\n      <td>200</td>\n      <td>1538352117000</td>\n      <td>Mozilla/5.0 (Windows NT 6.1; WOW64; rv:31.0) G...</td>\n      <td>30</td>\n    </tr>\n    <tr>\n      <th>1</th>\n      <td>Five Iron Frenzy</td>\n      <td>Logged In</td>\n      <td>Micah</td>\n      <td>M</td>\n      <td>79</td>\n      <td>Long</td>\n      <td>236.09424</td>\n      <td>free</td>\n      <td>Boston-Cambridge-Newton, MA-NH</td>\n      <td>PUT</td>\n      <td>NextSong</td>\n      <td>1538331630000</td>\n      <td>8</td>\n      <td>Canada</td>\n      <td>200</td>\n      <td>1538352180000</td>\n      <td>\"Mozilla/5.0 (Windows NT 6.1; WOW64) AppleWebK...</td>\n      <td>9</td>\n    </tr>\n    <tr>\n      <th>2</th>\n      <td>Adam Lambert</td>\n      <td>Logged In</td>\n      <td>Colin</td>\n      <td>M</td>\n      <td>51</td>\n      <td>Freeman</td>\n      <td>282.82730</td>\n      <td>paid</td>\n      <td>Bakersfield, CA</td>\n      <td>PUT</td>\n      <td>NextSong</td>\n      <td>1538173362000</td>\n      <td>29</td>\n      <td>Time For Miracles</td>\n      <td>200</td>\n      <td>1538352394000</td>\n      <td>Mozilla/5.0 (Windows NT 6.1; WOW64; rv:31.0) G...</td>\n      <td>30</td>\n    </tr>\n    <tr>\n      <th>3</th>\n      <td>Enigma</td>\n      <td>Logged In</td>\n      <td>Micah</td>\n      <td>M</td>\n      <td>80</td>\n      <td>Long</td>\n      <td>262.71302</td>\n      <td>free</td>\n      <td>Boston-Cambridge-Newton, MA-NH</td>\n      <td>PUT</td>\n      <td>NextSong</td>\n      <td>1538331630000</td>\n      <td>8</td>\n      <td>Knocking On Forbidden Doors</td>\n      <td>200</td>\n      <td>1538352416000</td>\n      <td>\"Mozilla/5.0 (Windows NT 6.1; WOW64) AppleWebK...</td>\n      <td>9</td>\n    </tr>\n    <tr>\n      <th>4</th>\n      <td>Daft Punk</td>\n      <td>Logged In</td>\n      <td>Colin</td>\n      <td>M</td>\n      <td>52</td>\n      <td>Freeman</td>\n      <td>223.60771</td>\n      <td>paid</td>\n      <td>Bakersfield, CA</td>\n      <td>PUT</td>\n      <td>NextSong</td>\n      <td>1538173362000</td>\n      <td>29</td>\n      <td>Harder Better Faster Stronger</td>\n      <td>200</td>\n      <td>1538352676000</td>\n      <td>Mozilla/5.0 (Windows NT 6.1; WOW64; rv:31.0) G...</td>\n      <td>30</td>\n    </tr>\n    <tr>\n      <th>5</th>\n      <td>The All-American Rejects</td>\n      <td>Logged In</td>\n      <td>Micah</td>\n      <td>M</td>\n      <td>81</td>\n      <td>Long</td>\n      <td>208.29995</td>\n      <td>free</td>\n      <td>Boston-Cambridge-Newton, MA-NH</td>\n      <td>PUT</td>\n      <td>NextSong</td>\n      <td>1538331630000</td>\n      <td>8</td>\n      <td>Don't Leave Me</td>\n      <td>200</td>\n      <td>1538352678000</td>\n      <td>\"Mozilla/5.0 (Windows NT 6.1; WOW64) AppleWebK...</td>\n      <td>9</td>\n    </tr>\n    <tr>\n      <th>6</th>\n      <td>The Velvet Underground / Nico</td>\n      <td>Logged In</td>\n      <td>Micah</td>\n      <td>M</td>\n      <td>82</td>\n      <td>Long</td>\n      <td>260.46649</td>\n      <td>free</td>\n      <td>Boston-Cambridge-Newton, MA-NH</td>\n      <td>PUT</td>\n      <td>NextSong</td>\n      <td>1538331630000</td>\n      <td>8</td>\n      <td>Run Run Run</td>\n      <td>200</td>\n      <td>1538352886000</td>\n      <td>\"Mozilla/5.0 (Windows NT 6.1; WOW64) AppleWebK...</td>\n      <td>9</td>\n    </tr>\n    <tr>\n      <th>7</th>\n      <td>Starflyer 59</td>\n      <td>Logged In</td>\n      <td>Colin</td>\n      <td>M</td>\n      <td>53</td>\n      <td>Freeman</td>\n      <td>185.44281</td>\n      <td>paid</td>\n      <td>Bakersfield, CA</td>\n      <td>PUT</td>\n      <td>NextSong</td>\n      <td>1538173362000</td>\n      <td>29</td>\n      <td>Passengers (Old Album Version)</td>\n      <td>200</td>\n      <td>1538352899000</td>\n      <td>Mozilla/5.0 (Windows NT 6.1; WOW64; rv:31.0) G...</td>\n      <td>30</td>\n    </tr>\n    <tr>\n      <th>8</th>\n      <td>None</td>\n      <td>Logged In</td>\n      <td>Colin</td>\n      <td>M</td>\n      <td>54</td>\n      <td>Freeman</td>\n      <td>NaN</td>\n      <td>paid</td>\n      <td>Bakersfield, CA</td>\n      <td>PUT</td>\n      <td>Add to Playlist</td>\n      <td>1538173362000</td>\n      <td>29</td>\n      <td>None</td>\n      <td>200</td>\n      <td>1538352905000</td>\n      <td>Mozilla/5.0 (Windows NT 6.1; WOW64; rv:31.0) G...</td>\n      <td>30</td>\n    </tr>\n    <tr>\n      <th>9</th>\n      <td>Frumpies</td>\n      <td>Logged In</td>\n      <td>Colin</td>\n      <td>M</td>\n      <td>55</td>\n      <td>Freeman</td>\n      <td>134.47791</td>\n      <td>paid</td>\n      <td>Bakersfield, CA</td>\n      <td>PUT</td>\n      <td>NextSong</td>\n      <td>1538173362000</td>\n      <td>29</td>\n      <td>Fuck Kitty</td>\n      <td>200</td>\n      <td>1538353084000</td>\n      <td>Mozilla/5.0 (Windows NT 6.1; WOW64; rv:31.0) G...</td>\n      <td>30</td>\n    </tr>\n    <tr>\n      <th>10</th>\n      <td>Britt Nicole</td>\n      <td>Logged In</td>\n      <td>Micah</td>\n      <td>M</td>\n      <td>83</td>\n      <td>Long</td>\n      <td>229.87710</td>\n      <td>free</td>\n      <td>Boston-Cambridge-Newton, MA-NH</td>\n      <td>PUT</td>\n      <td>NextSong</td>\n      <td>1538331630000</td>\n      <td>8</td>\n      <td>Walk On The Water</td>\n      <td>200</td>\n      <td>1538353146000</td>\n      <td>\"Mozilla/5.0 (Windows NT 6.1; WOW64) AppleWebK...</td>\n      <td>9</td>\n    </tr>\n    <tr>\n      <th>11</th>\n      <td>None</td>\n      <td>Logged In</td>\n      <td>Micah</td>\n      <td>M</td>\n      <td>84</td>\n      <td>Long</td>\n      <td>NaN</td>\n      <td>free</td>\n      <td>Boston-Cambridge-Newton, MA-NH</td>\n      <td>GET</td>\n      <td>Roll Advert</td>\n      <td>1538331630000</td>\n      <td>8</td>\n      <td>None</td>\n      <td>200</td>\n      <td>1538353150000</td>\n      <td>\"Mozilla/5.0 (Windows NT 6.1; WOW64) AppleWebK...</td>\n      <td>9</td>\n    </tr>\n    <tr>\n      <th>12</th>\n      <td>Edward Sharpe &amp; The Magnetic Zeros</td>\n      <td>Logged In</td>\n      <td>Colin</td>\n      <td>M</td>\n      <td>56</td>\n      <td>Freeman</td>\n      <td>223.58159</td>\n      <td>paid</td>\n      <td>Bakersfield, CA</td>\n      <td>PUT</td>\n      <td>NextSong</td>\n      <td>1538173362000</td>\n      <td>29</td>\n      <td>Jade</td>\n      <td>200</td>\n      <td>1538353218000</td>\n      <td>Mozilla/5.0 (Windows NT 6.1; WOW64; rv:31.0) G...</td>\n      <td>30</td>\n    </tr>\n    <tr>\n      <th>13</th>\n      <td>Tesla</td>\n      <td>Logged In</td>\n      <td>Micah</td>\n      <td>M</td>\n      <td>85</td>\n      <td>Long</td>\n      <td>201.06404</td>\n      <td>free</td>\n      <td>Boston-Cambridge-Newton, MA-NH</td>\n      <td>PUT</td>\n      <td>NextSong</td>\n      <td>1538331630000</td>\n      <td>8</td>\n      <td>Gettin' Better</td>\n      <td>200</td>\n      <td>1538353375000</td>\n      <td>\"Mozilla/5.0 (Windows NT 6.1; WOW64) AppleWebK...</td>\n      <td>9</td>\n    </tr>\n    <tr>\n      <th>14</th>\n      <td>None</td>\n      <td>Logged In</td>\n      <td>Micah</td>\n      <td>M</td>\n      <td>86</td>\n      <td>Long</td>\n      <td>NaN</td>\n      <td>free</td>\n      <td>Boston-Cambridge-Newton, MA-NH</td>\n      <td>PUT</td>\n      <td>Thumbs Up</td>\n      <td>1538331630000</td>\n      <td>8</td>\n      <td>None</td>\n      <td>307</td>\n      <td>1538353376000</td>\n      <td>\"Mozilla/5.0 (Windows NT 6.1; WOW64) AppleWebK...</td>\n      <td>9</td>\n    </tr>\n    <tr>\n      <th>15</th>\n      <td>Stan Mosley</td>\n      <td>Logged In</td>\n      <td>Colin</td>\n      <td>M</td>\n      <td>57</td>\n      <td>Freeman</td>\n      <td>246.69995</td>\n      <td>paid</td>\n      <td>Bakersfield, CA</td>\n      <td>PUT</td>\n      <td>NextSong</td>\n      <td>1538173362000</td>\n      <td>29</td>\n      <td>So-Called Friends</td>\n      <td>200</td>\n      <td>1538353441000</td>\n      <td>Mozilla/5.0 (Windows NT 6.1; WOW64; rv:31.0) G...</td>\n      <td>30</td>\n    </tr>\n    <tr>\n      <th>16</th>\n      <td>Florence + The Machine</td>\n      <td>Logged In</td>\n      <td>Micah</td>\n      <td>M</td>\n      <td>87</td>\n      <td>Long</td>\n      <td>168.64608</td>\n      <td>free</td>\n      <td>Boston-Cambridge-Newton, MA-NH</td>\n      <td>PUT</td>\n      <td>NextSong</td>\n      <td>1538331630000</td>\n      <td>8</td>\n      <td>You've Got The Love</td>\n      <td>200</td>\n      <td>1538353576000</td>\n      <td>\"Mozilla/5.0 (Windows NT 6.1; WOW64) AppleWebK...</td>\n      <td>9</td>\n    </tr>\n    <tr>\n      <th>17</th>\n      <td>Tokyo Police Club</td>\n      <td>Logged In</td>\n      <td>Ashlynn</td>\n      <td>F</td>\n      <td>0</td>\n      <td>Williams</td>\n      <td>166.11220</td>\n      <td>free</td>\n      <td>Tallahassee, FL</td>\n      <td>PUT</td>\n      <td>NextSong</td>\n      <td>1537365219000</td>\n      <td>217</td>\n      <td>Citizens Of Tomorrow</td>\n      <td>200</td>\n      <td>1538353668000</td>\n      <td>\"Mozilla/5.0 (Macintosh; Intel Mac OS X 10_9_4...</td>\n      <td>74</td>\n    </tr>\n    <tr>\n      <th>18</th>\n      <td>Orishas</td>\n      <td>Logged In</td>\n      <td>Colin</td>\n      <td>M</td>\n      <td>58</td>\n      <td>Freeman</td>\n      <td>222.22322</td>\n      <td>paid</td>\n      <td>Bakersfield, CA</td>\n      <td>PUT</td>\n      <td>NextSong</td>\n      <td>1538173362000</td>\n      <td>29</td>\n      <td>Represent</td>\n      <td>200</td>\n      <td>1538353687000</td>\n      <td>Mozilla/5.0 (Windows NT 6.1; WOW64; rv:31.0) G...</td>\n      <td>30</td>\n    </tr>\n    <tr>\n      <th>19</th>\n      <td>Ratatat</td>\n      <td>Logged In</td>\n      <td>Micah</td>\n      <td>M</td>\n      <td>88</td>\n      <td>Long</td>\n      <td>229.77261</td>\n      <td>free</td>\n      <td>Boston-Cambridge-Newton, MA-NH</td>\n      <td>PUT</td>\n      <td>NextSong</td>\n      <td>1538331630000</td>\n      <td>8</td>\n      <td>Swisha</td>\n      <td>200</td>\n      <td>1538353744000</td>\n      <td>\"Mozilla/5.0 (Windows NT 6.1; WOW64) AppleWebK...</td>\n      <td>9</td>\n    </tr>\n  </tbody>\n</table>\n</div>"
          },
          "metadata": {}
        }
      ]
    },
    {
      "cell_type": "markdown",
      "metadata": {
        "id": "MdDksPPjnqlf"
      },
      "source": [
        "check all columns name and type"
      ]
    },
    {
      "cell_type": "code",
      "metadata": {
        "id": "dpV08whJRcOG",
        "outputId": "a20e25b6-c372-4644-951d-0fa845474264"
      },
      "source": [
        "df.printSchema()"
      ],
      "execution_count": null,
      "outputs": [
        {
          "output_type": "stream",
          "text": "root\n |-- artist: string (nullable = true)\n |-- auth: string (nullable = true)\n |-- firstName: string (nullable = true)\n |-- gender: string (nullable = true)\n |-- itemInSession: long (nullable = true)\n |-- lastName: string (nullable = true)\n |-- length: double (nullable = true)\n |-- level: string (nullable = true)\n |-- location: string (nullable = true)\n |-- method: string (nullable = true)\n |-- page: string (nullable = true)\n |-- registration: long (nullable = true)\n |-- sessionId: long (nullable = true)\n |-- song: string (nullable = true)\n |-- status: long (nullable = true)\n |-- ts: long (nullable = true)\n |-- userAgent: string (nullable = true)\n |-- userId: string (nullable = true)\n\n",
          "name": "stdout"
        }
      ]
    },
    {
      "cell_type": "markdown",
      "metadata": {
        "id": "rHZR5Kkfn0cl"
      },
      "source": [
        "count unique value"
      ]
    },
    {
      "cell_type": "code",
      "metadata": {
        "id": "6jPdY1Q6RcOH",
        "outputId": "e1f5bbc5-8e89-410e-9ba4-d2e51ef10eee"
      },
      "source": [
        "df.select([countDistinct(x).alias(x) for x in df.columns]).show()"
      ],
      "execution_count": null,
      "outputs": [
        {
          "output_type": "stream",
          "text": "+------+----+---------+------+-------------+--------+------+-----+--------+------+----+------------+---------+-----+------+------+---------+------+\n|artist|auth|firstName|gender|itemInSession|lastName|length|level|location|method|page|registration|sessionId| song|status|    ts|userAgent|userId|\n+------+----+---------+------+-------------+--------+------+-----+--------+------+----+------------+---------+-----+------+------+---------+------+\n| 17655|   4|      189|     2|         1322|     173| 14865|    2|     114|     2|  22|         225|     2354|58480|     3|277447|       56|   226|\n+------+----+---------+------+-------------+--------+------+-----+--------+------+----+------------+---------+-----+------+------+---------+------+\n\n",
          "name": "stdout"
        }
      ]
    },
    {
      "cell_type": "markdown",
      "metadata": {
        "id": "E-NeZenan3OH"
      },
      "source": [
        "check for missing value"
      ]
    },
    {
      "cell_type": "code",
      "metadata": {
        "id": "wXM-kC4NRcOH",
        "outputId": "054c6340-6b4b-4410-eaa6-f87a15686911"
      },
      "source": [
        "df.select([count(when(isnull(x), x)).alias(x) for x in df.columns]).show()"
      ],
      "execution_count": null,
      "outputs": [
        {
          "output_type": "stream",
          "text": "+------+----+---------+------+-------------+--------+------+-----+--------+------+----+------------+---------+-----+------+---+---------+------+\n|artist|auth|firstName|gender|itemInSession|lastName|length|level|location|method|page|registration|sessionId| song|status| ts|userAgent|userId|\n+------+----+---------+------+-------------+--------+------+-----+--------+------+----+------------+---------+-----+------+---+---------+------+\n| 58392|   0|     8346|  8346|            0|    8346| 58392|    0|    8346|     0|   0|        8346|        0|58392|     0|  0|     8346|     0|\n+------+----+---------+------+-------------+--------+------+-----+--------+------+----+------------+---------+-----+------+---+---------+------+\n\n",
          "name": "stdout"
        }
      ]
    },
    {
      "cell_type": "markdown",
      "metadata": {
        "id": "KF9Tnc_Pn6Hs"
      },
      "source": [
        "check unique page column value"
      ]
    },
    {
      "cell_type": "code",
      "metadata": {
        "id": "VrEULFZbRcOH",
        "outputId": "dc8847f7-2d0a-4c63-909d-791e79f78c8a"
      },
      "source": [
        "df.select('page').distinct().collect()"
      ],
      "execution_count": null,
      "outputs": [
        {
          "output_type": "execute_result",
          "execution_count": 17,
          "data": {
            "text/plain": "[Row(page='Cancel'),\n Row(page='Submit Downgrade'),\n Row(page='Thumbs Down'),\n Row(page='Home'),\n Row(page='Downgrade'),\n Row(page='Roll Advert'),\n Row(page='Logout'),\n Row(page='Save Settings'),\n Row(page='Cancellation Confirmation'),\n Row(page='About'),\n Row(page='Submit Registration'),\n Row(page='Settings'),\n Row(page='Login'),\n Row(page='Register'),\n Row(page='Add to Playlist'),\n Row(page='Add Friend'),\n Row(page='NextSong'),\n Row(page='Thumbs Up'),\n Row(page='Help'),\n Row(page='Upgrade'),\n Row(page='Error'),\n Row(page='Submit Upgrade')]"
          },
          "metadata": {}
        }
      ]
    },
    {
      "cell_type": "markdown",
      "metadata": {
        "id": "NozjWh-NoBor"
      },
      "source": [
        "check unique userAgent column value"
      ]
    },
    {
      "cell_type": "code",
      "metadata": {
        "id": "iWkIjjZLRcOH",
        "scrolled": true,
        "outputId": "9b3eff4b-0390-4c21-dd1e-35daac0a4b8d"
      },
      "source": [
        "df.select('userAgent').distinct().collect()"
      ],
      "execution_count": null,
      "outputs": [
        {
          "output_type": "execute_result",
          "execution_count": 18,
          "data": {
            "text/plain": "[Row(userAgent='\"Mozilla/5.0 (Macintosh; Intel Mac OS X 10_8_5) AppleWebKit/537.36 (KHTML, like Gecko) Chrome/36.0.1985.143 Safari/537.36\"'),\n Row(userAgent='\"Mozilla/5.0 (Windows NT 5.1) AppleWebKit/537.36 (KHTML, like Gecko) Chrome/36.0.1985.143 Safari/537.36\"'),\n Row(userAgent='Mozilla/5.0 (X11; Ubuntu; Linux i686; rv:31.0) Gecko/20100101 Firefox/31.0'),\n Row(userAgent='\"Mozilla/5.0 (Macintosh; Intel Mac OS X 10_9_4) AppleWebKit/537.36 (KHTML, like Gecko) Chrome/36.0.1985.125 Safari/537.36\"'),\n Row(userAgent='\"Mozilla/5.0 (Macintosh; Intel Mac OS X 10_9_4) AppleWebKit/537.36 (KHTML, like Gecko) Chrome/35.0.1916.153 Safari/537.36\"'),\n Row(userAgent='Mozilla/5.0 (Macintosh; Intel Mac OS X 10.7; rv:31.0) Gecko/20100101 Firefox/31.0'),\n Row(userAgent='Mozilla/5.0 (Windows NT 6.1; WOW64; rv:30.0) Gecko/20100101 Firefox/30.0'),\n Row(userAgent='Mozilla/5.0 (Windows NT 6.3; WOW64; rv:31.0) Gecko/20100101 Firefox/31.0'),\n Row(userAgent='Mozilla/5.0 (compatible; MSIE 9.0; Windows NT 6.1; WOW64; Trident/5.0)'),\n Row(userAgent='\"Mozilla/5.0 (Windows NT 6.3; WOW64) AppleWebKit/537.36 (KHTML, like Gecko) Chrome/36.0.1985.143 Safari/537.36\"'),\n Row(userAgent='Mozilla/5.0 (Macintosh; Intel Mac OS X 10.9; rv:31.0) Gecko/20100101 Firefox/31.0'),\n Row(userAgent='\"Mozilla/5.0 (Windows NT 5.1) AppleWebKit/537.36 (KHTML, like Gecko) Chrome/36.0.1985.125 Safari/537.36\"'),\n Row(userAgent=None),\n Row(userAgent='\"Mozilla/5.0 (iPhone; CPU iPhone OS 7_1_1 like Mac OS X) AppleWebKit/537.51.2 (KHTML, like Gecko) Version/7.0 Mobile/11D201 Safari/9537.53\"'),\n Row(userAgent='\"Mozilla/5.0 (Windows NT 6.1; WOW64) AppleWebKit/537.36 (KHTML, like Gecko) Chrome/36.0.1985.125 Safari/537.36\"'),\n Row(userAgent='Mozilla/5.0 (Windows NT 6.1; WOW64; rv:31.0) Gecko/20100101 Firefox/31.0'),\n Row(userAgent='Mozilla/5.0 (compatible; MSIE 9.0; Windows NT 6.1; Trident/5.0)'),\n Row(userAgent='Mozilla/5.0 (compatible; MSIE 10.0; Windows NT 6.1; WOW64; Trident/6.0)'),\n Row(userAgent='\"Mozilla/5.0 (Macintosh; Intel Mac OS X 10_8_5) AppleWebKit/537.36 (KHTML, like Gecko) Chrome/37.0.2062.94 Safari/537.36\"'),\n Row(userAgent='\"Mozilla/5.0 (Macintosh; Intel Mac OS X 10_9_2) AppleWebKit/537.75.14 (KHTML, like Gecko) Version/7.0.3 Safari/537.75.14\"'),\n Row(userAgent='\"Mozilla/5.0 (Windows NT 6.1; WOW64) AppleWebKit/537.36 (KHTML, like Gecko) Chrome/37.0.2062.103 Safari/537.36\"'),\n Row(userAgent='\"Mozilla/5.0 (Windows NT 6.2; WOW64) AppleWebKit/537.36 (KHTML, like Gecko) Chrome/36.0.1985.125 Safari/537.36\"'),\n Row(userAgent='\"Mozilla/5.0 (iPad; CPU OS 7_1_2 like Mac OS X) AppleWebKit/537.51.2 (KHTML, like Gecko) Version/7.0 Mobile/11D257 Safari/9537.53\"'),\n Row(userAgent='\"Mozilla/5.0 (Macintosh; Intel Mac OS X 10_6_8) AppleWebKit/537.36 (KHTML, like Gecko) Chrome/36.0.1985.143 Safari/537.36\"'),\n Row(userAgent='\"Mozilla/5.0 (Macintosh; Intel Mac OS X 10_9_4) AppleWebKit/537.36 (KHTML, like Gecko) Chrome/36.0.1985.143 Safari/537.36\"'),\n Row(userAgent='Mozilla/5.0 (Windows NT 6.0; rv:31.0) Gecko/20100101 Firefox/31.0'),\n Row(userAgent='\"Mozilla/5.0 (Macintosh; Intel Mac OS X 10_7_5) AppleWebKit/537.36 (KHTML, like Gecko) Chrome/36.0.1985.125 Safari/537.36\"'),\n Row(userAgent='\"Mozilla/5.0 (Windows NT 6.1) AppleWebKit/537.36 (KHTML, like Gecko) Chrome/36.0.1985.125 Safari/537.36\"'),\n Row(userAgent='\"Mozilla/5.0 (Windows NT 6.2; WOW64) AppleWebKit/537.36 (KHTML, like Gecko) Chrome/36.0.1985.143 Safari/537.36\"'),\n Row(userAgent='Mozilla/5.0 (Macintosh; Intel Mac OS X 10.6; rv:31.0) Gecko/20100101 Firefox/31.0'),\n Row(userAgent='\"Mozilla/5.0 (Macintosh; Intel Mac OS X 10_9_3) AppleWebKit/537.76.4 (KHTML, like Gecko) Version/7.0.4 Safari/537.76.4\"'),\n Row(userAgent='Mozilla/5.0 (X11; Linux x86_64; rv:31.0) Gecko/20100101 Firefox/31.0'),\n Row(userAgent='\"Mozilla/5.0 (Macintosh; Intel Mac OS X 10_9_4) AppleWebKit/537.78.2 (KHTML, like Gecko) Version/7.0.6 Safari/537.78.2\"'),\n Row(userAgent='\"Mozilla/5.0 (Macintosh; Intel Mac OS X 10_7_5) AppleWebKit/537.77.4 (KHTML, like Gecko) Version/6.1.5 Safari/537.77.4\"'),\n Row(userAgent='\"Mozilla/5.0 (Macintosh; Intel Mac OS X 10_10) AppleWebKit/600.1.8 (KHTML, like Gecko) Version/8.0 Safari/600.1.8\"'),\n Row(userAgent='\"Mozilla/5.0 (Windows NT 6.1; WOW64) AppleWebKit/537.36 (KHTML, like Gecko) Chrome/35.0.1916.153 Safari/537.36\"'),\n Row(userAgent='\"Mozilla/5.0 (X11; Linux x86_64) AppleWebKit/537.36 (KHTML, like Gecko) Chrome/36.0.1985.143 Safari/537.36\"'),\n Row(userAgent='\"Mozilla/5.0 (Windows NT 6.1) AppleWebKit/537.36 (KHTML, like Gecko) Chrome/36.0.1985.143 Safari/537.36\"'),\n Row(userAgent='Mozilla/5.0 (X11; Ubuntu; Linux x86_64; rv:31.0) Gecko/20100101 Firefox/31.0'),\n Row(userAgent='\"Mozilla/5.0 (iPad; CPU OS 7_1_1 like Mac OS X) AppleWebKit/537.51.2 (KHTML, like Gecko) Version/7.0 Mobile/11D201 Safari/9537.53\"'),\n Row(userAgent='\"Mozilla/5.0 (Macintosh; Intel Mac OS X 10_10) AppleWebKit/600.1.3 (KHTML, like Gecko) Version/8.0 Safari/600.1.3\"'),\n Row(userAgent='\"Mozilla/5.0 (Macintosh; Intel Mac OS X 10_9_4) AppleWebKit/537.77.4 (KHTML, like Gecko) Version/7.0.5 Safari/537.77.4\"'),\n Row(userAgent='Mozilla/5.0 (Windows NT 6.2; WOW64; rv:31.0) Gecko/20100101 Firefox/31.0'),\n Row(userAgent='\"Mozilla/5.0 (Windows NT 6.3; WOW64) AppleWebKit/537.36 (KHTML, like Gecko) Chrome/36.0.1985.125 Safari/537.36\"'),\n Row(userAgent='Mozilla/5.0 (Windows NT 6.1; WOW64; rv:24.0) Gecko/20100101 Firefox/24.0'),\n Row(userAgent='Mozilla/5.0 (Windows NT 6.1; WOW64; rv:32.0) Gecko/20100101 Firefox/32.0'),\n Row(userAgent='\"Mozilla/5.0 (Macintosh; Intel Mac OS X 10_9_2) AppleWebKit/537.74.9 (KHTML, like Gecko) Version/7.0.2 Safari/537.74.9\"'),\n Row(userAgent='\"Mozilla/5.0 (iPhone; CPU iPhone OS 7_1_2 like Mac OS X) AppleWebKit/537.51.2 (KHTML, like Gecko) Version/7.0 Mobile/11D257 Safari/9537.53\"'),\n Row(userAgent='\"Mozilla/5.0 (X11; Linux x86_64) AppleWebKit/537.36 (KHTML, like Gecko) Chrome/36.0.1985.125 Safari/537.36\"'),\n Row(userAgent='\"Mozilla/5.0 (Macintosh; Intel Mac OS X 10_9_2) AppleWebKit/537.36 (KHTML, like Gecko) Chrome/36.0.1985.125 Safari/537.36\"'),\n Row(userAgent='\"Mozilla/5.0 (Windows NT 6.1; WOW64) AppleWebKit/537.36 (KHTML, like Gecko) Chrome/37.0.2062.94 Safari/537.36\"'),\n Row(userAgent='\"Mozilla/5.0 (Macintosh; Intel Mac OS X 10_9_4) AppleWebKit/537.36 (KHTML, like Gecko) Chrome/37.0.2062.94 Safari/537.36\"'),\n Row(userAgent='\"Mozilla/5.0 (iPhone; CPU iPhone OS 7_1 like Mac OS X) AppleWebKit/537.51.2 (KHTML, like Gecko) Version/7.0 Mobile/11D167 Safari/9537.53\"'),\n Row(userAgent='\"Mozilla/5.0 (Windows NT 6.1; WOW64) AppleWebKit/537.36 (KHTML, like Gecko) Chrome/36.0.1985.143 Safari/537.36\"'),\n Row(userAgent='Mozilla/5.0 (Macintosh; Intel Mac OS X 10.8; rv:31.0) Gecko/20100101 Firefox/31.0'),\n Row(userAgent='Mozilla/5.0 (Windows NT 6.1; WOW64; Trident/7.0; rv:11.0) like Gecko'),\n Row(userAgent='Mozilla/5.0 (Windows NT 6.1; rv:31.0) Gecko/20100101 Firefox/31.0')]"
          },
          "metadata": {}
        }
      ]
    },
    {
      "cell_type": "markdown",
      "metadata": {
        "id": "WI8ee9t-oFMw"
      },
      "source": [
        "count page column"
      ]
    },
    {
      "cell_type": "code",
      "metadata": {
        "id": "SBsmwbX-RcOI",
        "outputId": "16b6711f-85fd-47c5-9650-fcebe3b50613"
      },
      "source": [
        "df.select('page').groupby('page').count().sort(col('count').desc()).show()"
      ],
      "execution_count": null,
      "outputs": [
        {
          "output_type": "stream",
          "text": "+--------------------+------+\n|                page| count|\n+--------------------+------+\n|            NextSong|228108|\n|                Home| 14457|\n|           Thumbs Up| 12551|\n|     Add to Playlist|  6526|\n|          Add Friend|  4277|\n|         Roll Advert|  3933|\n|               Login|  3241|\n|              Logout|  3226|\n|         Thumbs Down|  2546|\n|           Downgrade|  2055|\n|                Help|  1726|\n|            Settings|  1514|\n|               About|   924|\n|             Upgrade|   499|\n|       Save Settings|   310|\n|               Error|   258|\n|      Submit Upgrade|   159|\n|    Submit Downgrade|    63|\n|              Cancel|    52|\n|Cancellation Conf...|    52|\n+--------------------+------+\nonly showing top 20 rows\n\n",
          "name": "stdout"
        }
      ]
    },
    {
      "cell_type": "markdown",
      "metadata": {
        "id": "dB9_gW8_oLwa"
      },
      "source": [
        "check unique auth column value"
      ]
    },
    {
      "cell_type": "code",
      "metadata": {
        "id": "ee7i6eSJRcOI",
        "outputId": "11ef15bb-de80-4480-8fdb-9b98a483009b"
      },
      "source": [
        "df.select('auth').distinct().collect()"
      ],
      "execution_count": null,
      "outputs": [
        {
          "output_type": "execute_result",
          "execution_count": 20,
          "data": {
            "text/plain": "[Row(auth='Logged Out'),\n Row(auth='Cancelled'),\n Row(auth='Guest'),\n Row(auth='Logged In')]"
          },
          "metadata": {}
        }
      ]
    },
    {
      "cell_type": "markdown",
      "metadata": {
        "id": "MZCC9sMcoRwt"
      },
      "source": [
        "count auth column"
      ]
    },
    {
      "cell_type": "code",
      "metadata": {
        "id": "SNQceTkeRcOI",
        "outputId": "af5a47b5-51df-4261-f0d8-ca6ef959a051"
      },
      "source": [
        "df.select('auth').groupby('auth').count().show()"
      ],
      "execution_count": null,
      "outputs": [
        {
          "output_type": "stream",
          "text": "+----------+------+\n|      auth| count|\n+----------+------+\n|Logged Out|  8249|\n| Cancelled|    52|\n|     Guest|    97|\n| Logged In|278102|\n+----------+------+\n\n",
          "name": "stdout"
        }
      ]
    },
    {
      "cell_type": "markdown",
      "metadata": {
        "id": "X9owYZzroX-m"
      },
      "source": [
        "count auth and gender column"
      ]
    },
    {
      "cell_type": "code",
      "metadata": {
        "id": "QtO0ebAlRcOI",
        "outputId": "4cd399e7-1c4e-4168-8a01-006f46707a5d"
      },
      "source": [
        "df.select('userId','gender','auth').groupby(['gender','auth']).count().sort(col('count').desc()).show()"
      ],
      "execution_count": null,
      "outputs": [
        {
          "output_type": "stream",
          "text": "+------+----------+------+\n|gender|      auth| count|\n+------+----------+------+\n|     F| Logged In|154558|\n|     M| Logged In|123544|\n|  null|Logged Out|  8249|\n|  null|     Guest|    97|\n|     M| Cancelled|    32|\n|     F| Cancelled|    20|\n+------+----------+------+\n\n",
          "name": "stdout"
        }
      ]
    },
    {
      "cell_type": "markdown",
      "metadata": {
        "id": "RsmcdcKnoeBv"
      },
      "source": [
        "check unique location column value"
      ]
    },
    {
      "cell_type": "code",
      "metadata": {
        "id": "hFyx__ZCRcOI",
        "outputId": "f625a111-711f-46c3-c2d2-510f228342c7"
      },
      "source": [
        "df.select('location').distinct().collect()"
      ],
      "execution_count": null,
      "outputs": [
        {
          "output_type": "execute_result",
          "execution_count": 23,
          "data": {
            "text/plain": "[Row(location='Atlantic City-Hammonton, NJ'),\n Row(location='Gainesville, FL'),\n Row(location='Deltona-Daytona Beach-Ormond Beach, FL'),\n Row(location='San Diego-Carlsbad, CA'),\n Row(location='Cleveland-Elyria, OH'),\n Row(location='Kingsport-Bristol-Bristol, TN-VA'),\n Row(location='New Haven-Milford, CT'),\n Row(location='Birmingham-Hoover, AL'),\n Row(location='Corpus Christi, TX'),\n Row(location='Dubuque, IA'),\n Row(location='Las Vegas-Henderson-Paradise, NV'),\n Row(location='Indianapolis-Carmel-Anderson, IN'),\n Row(location='Seattle-Tacoma-Bellevue, WA'),\n Row(location='Albany, OR'),\n Row(location='Winston-Salem, NC'),\n Row(location='Los Angeles-Long Beach-Anaheim, CA'),\n Row(location='Bakersfield, CA'),\n Row(location='Minneapolis-St. Paul-Bloomington, MN-WI'),\n Row(location='San Francisco-Oakland-Hayward, CA'),\n Row(location='Phoenix-Mesa-Scottsdale, AZ'),\n Row(location='Allentown-Bethlehem-Easton, PA-NJ'),\n Row(location='Miami-Fort Lauderdale-West Palm Beach, FL'),\n Row(location='San Jose-Sunnyvale-Santa Clara, CA'),\n Row(location='Selma, AL'),\n Row(location='Dayton, OH'),\n Row(location='Bridgeport-Stamford-Norwalk, CT'),\n Row(location='Providence-Warwick, RI-MA'),\n Row(location='Price, UT'),\n Row(location='Columbus, GA-AL'),\n Row(location='Greenville-Anderson-Mauldin, SC'),\n Row(location='Logan, UT-ID'),\n Row(location='Myrtle Beach-Conway-North Myrtle Beach, SC-NC'),\n Row(location=None),\n Row(location='Buffalo-Cheektowaga-Niagara Falls, NY'),\n Row(location='Cookeville, TN'),\n Row(location='New Philadelphia-Dover, OH'),\n Row(location='Anchorage, AK'),\n Row(location='New York-Newark-Jersey City, NY-NJ-PA'),\n Row(location='St. Louis, MO-IL'),\n Row(location='Jackson, MS'),\n Row(location='Orlando-Kissimmee-Sanford, FL'),\n Row(location='McAllen-Edinburg-Mission, TX'),\n Row(location='Oxnard-Thousand Oaks-Ventura, CA'),\n Row(location='Memphis, TN-MS-AR'),\n Row(location='San Antonio-New Braunfels, TX'),\n Row(location='Troy, AL'),\n Row(location='Duluth, MN-WI'),\n Row(location='Washington-Arlington-Alexandria, DC-VA-MD-WV'),\n Row(location='Danville, VA'),\n Row(location='Greensboro-High Point, NC'),\n Row(location='Manchester-Nashua, NH'),\n Row(location='Sterling, IL'),\n Row(location='Napa, CA'),\n Row(location='Monroe, LA'),\n Row(location='Louisville/Jefferson County, KY-IN'),\n Row(location='Syracuse, NY'),\n Row(location='Little Rock-North Little Rock-Conway, AR'),\n Row(location='Austin-Round Rock, TX'),\n Row(location='Kansas City, MO-KS'),\n Row(location='Cincinnati, OH-KY-IN'),\n Row(location='Bozeman, MT'),\n Row(location='Truckee-Grass Valley, CA'),\n Row(location='Boston-Cambridge-Newton, MA-NH'),\n Row(location='Philadelphia-Camden-Wilmington, PA-NJ-DE-MD'),\n Row(location='Atlanta-Sandy Springs-Roswell, GA'),\n Row(location='Pittsburgh, PA'),\n Row(location='Chicago-Naperville-Elgin, IL-IN-WI'),\n Row(location='Dallas-Fort Worth-Arlington, TX'),\n Row(location='North Wilkesboro, NC'),\n Row(location='Oklahoma City, OK'),\n Row(location='Albany-Schenectady-Troy, NY'),\n Row(location='Quincy, IL-MO'),\n Row(location='Pontiac, IL'),\n Row(location='Jacksonville, FL'),\n Row(location='Fairbanks, AK'),\n Row(location='Houston-The Woodlands-Sugar Land, TX'),\n Row(location='Montgomery, AL'),\n Row(location='Hartford-West Hartford-East Hartford, CT'),\n Row(location='Port St. Lucie, FL'),\n Row(location='Omaha-Council Bluffs, NE-IA'),\n Row(location='Charlotte-Concord-Gastonia, NC-SC'),\n Row(location='Baltimore-Columbia-Towson, MD'),\n Row(location='Raleigh, NC'),\n Row(location='Sacramento--Roseville--Arden-Arcade, CA'),\n Row(location='Laurel, MS'),\n Row(location='Lexington-Fayette, KY'),\n Row(location='Tampa-St. Petersburg-Clearwater, FL'),\n Row(location='London, KY'),\n Row(location='Tallahassee, FL'),\n Row(location='Roanoke, VA'),\n Row(location='Riverside-San Bernardino-Ontario, CA'),\n Row(location='Virginia Beach-Norfolk-Newport News, VA-NC'),\n Row(location='Concord, NH'),\n Row(location='Stockton-Lodi, CA'),\n Row(location='Boulder, CO'),\n Row(location='Milwaukee-Waukesha-West Allis, WI'),\n Row(location='Detroit-Warren-Dearborn, MI'),\n Row(location='Billings, MT'),\n Row(location='Alexandria, LA'),\n Row(location='Salinas, CA'),\n Row(location='Ionia, MI'),\n Row(location='Morgantown, WV'),\n Row(location='Vineland-Bridgeton, NJ'),\n Row(location='Jacksonville, NC'),\n Row(location='Spokane-Spokane Valley, WA'),\n Row(location='Scranton--Wilkes-Barre--Hazleton, PA'),\n Row(location='Kankakee, IL'),\n Row(location='Portland-Vancouver-Hillsboro, OR-WA'),\n Row(location='Denver-Aurora-Lakewood, CO'),\n Row(location='Flint, MI'),\n Row(location='Santa Maria-Santa Barbara, CA'),\n Row(location='Muncie, IN'),\n Row(location='Colorado Springs, CO'),\n Row(location='Wilson, NC'),\n Row(location='Hagerstown-Martinsburg, MD-WV')]"
          },
          "metadata": {}
        }
      ]
    },
    {
      "cell_type": "markdown",
      "metadata": {
        "id": "qLY_77d4oiTd"
      },
      "source": [
        "check unique userAgent column value"
      ]
    },
    {
      "cell_type": "code",
      "metadata": {
        "id": "KyTZkWm9RcOJ",
        "scrolled": true,
        "outputId": "3fd9cb4b-acff-47f0-a191-ab578f9f941d"
      },
      "source": [
        "df.select('userAgent').distinct().collect()"
      ],
      "execution_count": null,
      "outputs": [
        {
          "output_type": "execute_result",
          "execution_count": 24,
          "data": {
            "text/plain": "[Row(userAgent='\"Mozilla/5.0 (Macintosh; Intel Mac OS X 10_8_5) AppleWebKit/537.36 (KHTML, like Gecko) Chrome/36.0.1985.143 Safari/537.36\"'),\n Row(userAgent='\"Mozilla/5.0 (Windows NT 5.1) AppleWebKit/537.36 (KHTML, like Gecko) Chrome/36.0.1985.143 Safari/537.36\"'),\n Row(userAgent='Mozilla/5.0 (X11; Ubuntu; Linux i686; rv:31.0) Gecko/20100101 Firefox/31.0'),\n Row(userAgent='\"Mozilla/5.0 (Macintosh; Intel Mac OS X 10_9_4) AppleWebKit/537.36 (KHTML, like Gecko) Chrome/36.0.1985.125 Safari/537.36\"'),\n Row(userAgent='\"Mozilla/5.0 (Macintosh; Intel Mac OS X 10_9_4) AppleWebKit/537.36 (KHTML, like Gecko) Chrome/35.0.1916.153 Safari/537.36\"'),\n Row(userAgent='Mozilla/5.0 (Macintosh; Intel Mac OS X 10.7; rv:31.0) Gecko/20100101 Firefox/31.0'),\n Row(userAgent='Mozilla/5.0 (Windows NT 6.1; WOW64; rv:30.0) Gecko/20100101 Firefox/30.0'),\n Row(userAgent='Mozilla/5.0 (Windows NT 6.3; WOW64; rv:31.0) Gecko/20100101 Firefox/31.0'),\n Row(userAgent='Mozilla/5.0 (compatible; MSIE 9.0; Windows NT 6.1; WOW64; Trident/5.0)'),\n Row(userAgent='\"Mozilla/5.0 (Windows NT 6.3; WOW64) AppleWebKit/537.36 (KHTML, like Gecko) Chrome/36.0.1985.143 Safari/537.36\"'),\n Row(userAgent='Mozilla/5.0 (Macintosh; Intel Mac OS X 10.9; rv:31.0) Gecko/20100101 Firefox/31.0'),\n Row(userAgent='\"Mozilla/5.0 (Windows NT 5.1) AppleWebKit/537.36 (KHTML, like Gecko) Chrome/36.0.1985.125 Safari/537.36\"'),\n Row(userAgent=None),\n Row(userAgent='\"Mozilla/5.0 (iPhone; CPU iPhone OS 7_1_1 like Mac OS X) AppleWebKit/537.51.2 (KHTML, like Gecko) Version/7.0 Mobile/11D201 Safari/9537.53\"'),\n Row(userAgent='\"Mozilla/5.0 (Windows NT 6.1; WOW64) AppleWebKit/537.36 (KHTML, like Gecko) Chrome/36.0.1985.125 Safari/537.36\"'),\n Row(userAgent='Mozilla/5.0 (Windows NT 6.1; WOW64; rv:31.0) Gecko/20100101 Firefox/31.0'),\n Row(userAgent='Mozilla/5.0 (compatible; MSIE 9.0; Windows NT 6.1; Trident/5.0)'),\n Row(userAgent='Mozilla/5.0 (compatible; MSIE 10.0; Windows NT 6.1; WOW64; Trident/6.0)'),\n Row(userAgent='\"Mozilla/5.0 (Macintosh; Intel Mac OS X 10_8_5) AppleWebKit/537.36 (KHTML, like Gecko) Chrome/37.0.2062.94 Safari/537.36\"'),\n Row(userAgent='\"Mozilla/5.0 (Macintosh; Intel Mac OS X 10_9_2) AppleWebKit/537.75.14 (KHTML, like Gecko) Version/7.0.3 Safari/537.75.14\"'),\n Row(userAgent='\"Mozilla/5.0 (Windows NT 6.1; WOW64) AppleWebKit/537.36 (KHTML, like Gecko) Chrome/37.0.2062.103 Safari/537.36\"'),\n Row(userAgent='\"Mozilla/5.0 (Windows NT 6.2; WOW64) AppleWebKit/537.36 (KHTML, like Gecko) Chrome/36.0.1985.125 Safari/537.36\"'),\n Row(userAgent='\"Mozilla/5.0 (iPad; CPU OS 7_1_2 like Mac OS X) AppleWebKit/537.51.2 (KHTML, like Gecko) Version/7.0 Mobile/11D257 Safari/9537.53\"'),\n Row(userAgent='\"Mozilla/5.0 (Macintosh; Intel Mac OS X 10_6_8) AppleWebKit/537.36 (KHTML, like Gecko) Chrome/36.0.1985.143 Safari/537.36\"'),\n Row(userAgent='Mozilla/5.0 (Windows NT 6.0; rv:31.0) Gecko/20100101 Firefox/31.0'),\n Row(userAgent='\"Mozilla/5.0 (Macintosh; Intel Mac OS X 10_9_4) AppleWebKit/537.36 (KHTML, like Gecko) Chrome/36.0.1985.143 Safari/537.36\"'),\n Row(userAgent='\"Mozilla/5.0 (Macintosh; Intel Mac OS X 10_7_5) AppleWebKit/537.36 (KHTML, like Gecko) Chrome/36.0.1985.125 Safari/537.36\"'),\n Row(userAgent='\"Mozilla/5.0 (Windows NT 6.1) AppleWebKit/537.36 (KHTML, like Gecko) Chrome/36.0.1985.125 Safari/537.36\"'),\n Row(userAgent='\"Mozilla/5.0 (Windows NT 6.2; WOW64) AppleWebKit/537.36 (KHTML, like Gecko) Chrome/36.0.1985.143 Safari/537.36\"'),\n Row(userAgent='Mozilla/5.0 (Macintosh; Intel Mac OS X 10.6; rv:31.0) Gecko/20100101 Firefox/31.0'),\n Row(userAgent='\"Mozilla/5.0 (Macintosh; Intel Mac OS X 10_9_3) AppleWebKit/537.76.4 (KHTML, like Gecko) Version/7.0.4 Safari/537.76.4\"'),\n Row(userAgent='Mozilla/5.0 (X11; Linux x86_64; rv:31.0) Gecko/20100101 Firefox/31.0'),\n Row(userAgent='\"Mozilla/5.0 (Macintosh; Intel Mac OS X 10_9_4) AppleWebKit/537.78.2 (KHTML, like Gecko) Version/7.0.6 Safari/537.78.2\"'),\n Row(userAgent='\"Mozilla/5.0 (Macintosh; Intel Mac OS X 10_7_5) AppleWebKit/537.77.4 (KHTML, like Gecko) Version/6.1.5 Safari/537.77.4\"'),\n Row(userAgent='\"Mozilla/5.0 (Macintosh; Intel Mac OS X 10_10) AppleWebKit/600.1.8 (KHTML, like Gecko) Version/8.0 Safari/600.1.8\"'),\n Row(userAgent='\"Mozilla/5.0 (Windows NT 6.1; WOW64) AppleWebKit/537.36 (KHTML, like Gecko) Chrome/35.0.1916.153 Safari/537.36\"'),\n Row(userAgent='\"Mozilla/5.0 (X11; Linux x86_64) AppleWebKit/537.36 (KHTML, like Gecko) Chrome/36.0.1985.143 Safari/537.36\"'),\n Row(userAgent='\"Mozilla/5.0 (Windows NT 6.1) AppleWebKit/537.36 (KHTML, like Gecko) Chrome/36.0.1985.143 Safari/537.36\"'),\n Row(userAgent='Mozilla/5.0 (X11; Ubuntu; Linux x86_64; rv:31.0) Gecko/20100101 Firefox/31.0'),\n Row(userAgent='\"Mozilla/5.0 (iPad; CPU OS 7_1_1 like Mac OS X) AppleWebKit/537.51.2 (KHTML, like Gecko) Version/7.0 Mobile/11D201 Safari/9537.53\"'),\n Row(userAgent='\"Mozilla/5.0 (Macintosh; Intel Mac OS X 10_10) AppleWebKit/600.1.3 (KHTML, like Gecko) Version/8.0 Safari/600.1.3\"'),\n Row(userAgent='Mozilla/5.0 (Windows NT 6.2; WOW64; rv:31.0) Gecko/20100101 Firefox/31.0'),\n Row(userAgent='\"Mozilla/5.0 (Macintosh; Intel Mac OS X 10_9_4) AppleWebKit/537.77.4 (KHTML, like Gecko) Version/7.0.5 Safari/537.77.4\"'),\n Row(userAgent='\"Mozilla/5.0 (Windows NT 6.3; WOW64) AppleWebKit/537.36 (KHTML, like Gecko) Chrome/36.0.1985.125 Safari/537.36\"'),\n Row(userAgent='Mozilla/5.0 (Windows NT 6.1; WOW64; rv:24.0) Gecko/20100101 Firefox/24.0'),\n Row(userAgent='Mozilla/5.0 (Windows NT 6.1; WOW64; rv:32.0) Gecko/20100101 Firefox/32.0'),\n Row(userAgent='\"Mozilla/5.0 (Macintosh; Intel Mac OS X 10_9_2) AppleWebKit/537.74.9 (KHTML, like Gecko) Version/7.0.2 Safari/537.74.9\"'),\n Row(userAgent='\"Mozilla/5.0 (iPhone; CPU iPhone OS 7_1_2 like Mac OS X) AppleWebKit/537.51.2 (KHTML, like Gecko) Version/7.0 Mobile/11D257 Safari/9537.53\"'),\n Row(userAgent='\"Mozilla/5.0 (X11; Linux x86_64) AppleWebKit/537.36 (KHTML, like Gecko) Chrome/36.0.1985.125 Safari/537.36\"'),\n Row(userAgent='\"Mozilla/5.0 (Macintosh; Intel Mac OS X 10_9_2) AppleWebKit/537.36 (KHTML, like Gecko) Chrome/36.0.1985.125 Safari/537.36\"'),\n Row(userAgent='\"Mozilla/5.0 (Windows NT 6.1; WOW64) AppleWebKit/537.36 (KHTML, like Gecko) Chrome/37.0.2062.94 Safari/537.36\"'),\n Row(userAgent='\"Mozilla/5.0 (Macintosh; Intel Mac OS X 10_9_4) AppleWebKit/537.36 (KHTML, like Gecko) Chrome/37.0.2062.94 Safari/537.36\"'),\n Row(userAgent='\"Mozilla/5.0 (iPhone; CPU iPhone OS 7_1 like Mac OS X) AppleWebKit/537.51.2 (KHTML, like Gecko) Version/7.0 Mobile/11D167 Safari/9537.53\"'),\n Row(userAgent='\"Mozilla/5.0 (Windows NT 6.1; WOW64) AppleWebKit/537.36 (KHTML, like Gecko) Chrome/36.0.1985.143 Safari/537.36\"'),\n Row(userAgent='Mozilla/5.0 (Macintosh; Intel Mac OS X 10.8; rv:31.0) Gecko/20100101 Firefox/31.0'),\n Row(userAgent='Mozilla/5.0 (Windows NT 6.1; WOW64; Trident/7.0; rv:11.0) like Gecko'),\n Row(userAgent='Mozilla/5.0 (Windows NT 6.1; rv:31.0) Gecko/20100101 Firefox/31.0')]"
          },
          "metadata": {}
        }
      ]
    },
    {
      "cell_type": "markdown",
      "metadata": {
        "id": "UJqfw7iLonSw"
      },
      "source": [
        "check reference date of this dataframe"
      ]
    },
    {
      "cell_type": "code",
      "metadata": {
        "id": "pcovaFhhRcOJ",
        "outputId": "e0c10d75-dd12-469d-e6cf-0fc757a4e1c3"
      },
      "source": [
        "df.withColumn('date', from_unixtime(col('ts')/1000).cast(DateType())).select(max('date'),min('date')).collect()"
      ],
      "execution_count": null,
      "outputs": [
        {
          "output_type": "execute_result",
          "execution_count": 25,
          "data": {
            "text/plain": "[Row(max(date)=datetime.date(2018, 12, 3), min(date)=datetime.date(2018, 10, 1))]"
          },
          "metadata": {}
        }
      ]
    },
    {
      "cell_type": "markdown",
      "metadata": {
        "id": "CT-RtNaBRcOJ"
      },
      "source": [
        "# EDA with Labeled DataFrame"
      ]
    },
    {
      "cell_type": "code",
      "metadata": {
        "id": "8HJ_IJa1RcOJ"
      },
      "source": [
        "churn_df = create_churn_label(df)\n",
        "cleaned_df = clean_data(churn_df)"
      ],
      "execution_count": null,
      "outputs": []
    },
    {
      "cell_type": "code",
      "metadata": {
        "id": "qgKurXXGRcOJ",
        "outputId": "570faf40-2e57-4335-9eed-54d16c05a4ee"
      },
      "source": [
        "cleaned_df.select('userId','gender','churn').distinct().groupby('gender','churn').count().show()"
      ],
      "execution_count": null,
      "outputs": [
        {
          "output_type": "stream",
          "text": "+------+-----+-----+\n|gender|churn|count|\n+------+-----+-----+\n|     M|    1|   32|\n|     F|    0|   84|\n|     F|    1|   20|\n|     M|    0|   89|\n+------+-----+-----+\n\n",
          "name": "stdout"
        }
      ]
    },
    {
      "cell_type": "code",
      "metadata": {
        "id": "lsc-mIXmRcOJ",
        "outputId": "94416006-eec4-49e7-bfec-7555cdd75900"
      },
      "source": [
        "cleaned_df.select('userId','userAgent','churn').distinct().groupby('userAgent','churn').count().show()"
      ],
      "execution_count": null,
      "outputs": [
        {
          "output_type": "stream",
          "text": "+---------+-----+-----+\n|userAgent|churn|count|\n+---------+-----+-----+\n|Macintosh|    0|   67|\n|      X11|    0|    7|\n|      X11|    1|    5|\n|   iPhone|    1|    4|\n|     iPad|    0|    3|\n|Macintosh|    1|   19|\n|  Windows|    0|   87|\n|   iPhone|    0|    9|\n|  Windows|    1|   24|\n+---------+-----+-----+\n\n",
          "name": "stdout"
        }
      ]
    },
    {
      "cell_type": "code",
      "metadata": {
        "id": "F56BtzyVRcOK",
        "outputId": "bbcbb851-bf87-441f-8f61-0f948f44df78"
      },
      "source": [
        "cleaned_df.select('userId','location','churn').distinct().groupby('location','churn').count().show()"
      ],
      "execution_count": null,
      "outputs": [
        {
          "output_type": "stream",
          "text": "+---------+-----+-----+\n| location|churn|count|\n+---------+-----+-----+\n|       OK|    0|    1|\n|    KY-IN|    0|    1|\n|       MS|    1|    2|\n|       WA|    0|    2|\n|       MD|    0|    1|\n|       CT|    0|    7|\n|    GA-AL|    0|    2|\n|       KY|    0|    1|\n|       MT|    0|    1|\n| IL-IN-WI|    0|    5|\n|       PA|    0|    3|\n|    UT-ID|    0|    1|\n|       NY|    0|    4|\n|       IN|    1|    1|\n|       AR|    1|    1|\n|       AL|    0|    2|\n|       WA|    1|    2|\n|       WV|    0|    1|\n|       LA|    0|    1|\n|    OR-WA|    0|    2|\n+---------+-----+-----+\nonly showing top 20 rows\n\n",
          "name": "stdout"
        }
      ]
    },
    {
      "cell_type": "code",
      "metadata": {
        "id": "eFKjU4CYRcOK",
        "outputId": "3a9bb850-e88f-4f3d-b8f8-e254547aa2da"
      },
      "source": [
        "churn_count = cleaned_df.select('userId','churn').distinct().groupby('churn').count().toPandas().sort_values(by='count')\n",
        "churn_count.index = [\"Churned Users\", \"Active Users\"]\n",
        "fig = plt.figure(figsize=(5,5))\n",
        "ax = fig.gca()\n",
        "sns.barplot(churn_count.index, churn_count['count'], ax=ax)"
      ],
      "execution_count": null,
      "outputs": [
        {
          "output_type": "execute_result",
          "execution_count": 47,
          "data": {
            "text/plain": "<matplotlib.axes._subplots.AxesSubplot at 0x7f07f0732a90>"
          },
          "metadata": {}
        },
        {
          "output_type": "display_data",
          "data": {
            "text/plain": "<Figure size 360x360 with 1 Axes>",
            "image/png": "[encoded data removed]"
          },
          "metadata": {
            "needs_background": "light"
          }
        }
      ]
    },
    {
      "cell_type": "code",
      "metadata": {
        "id": "iGpZFLWqRcOK",
        "outputId": "f4ced56b-0b13-4044-8efb-78491895b74c"
      },
      "source": [
        "gender_count = cleaned_df.select('userId','level','gender').distinct().groupby('level','gender').count().toPandas().sort_values(by='count')\n",
        "fig = plt.figure(figsize=(5,5))\n",
        "ax = fig.gca()\n",
        "gender_count.pivot(index='gender', columns='level', values='count').plot(kind='bar', ax=ax)"
      ],
      "execution_count": null,
      "outputs": [
        {
          "output_type": "execute_result",
          "execution_count": 31,
          "data": {
            "text/plain": "<matplotlib.axes._subplots.AxesSubplot at 0x7f0828bf5fd0>"
          },
          "metadata": {}
        },
        {
          "output_type": "display_data",
          "data": {
            "text/plain": "<Figure size 360x360 with 1 Axes>",
            "image/png": "[encoded data removed]"
          },
          "metadata": {
            "needs_background": "light"
          }
        }
      ]
    },
    {
      "cell_type": "code",
      "metadata": {
        "id": "Mt_xQsVwRcOK",
        "outputId": "c07a0272-343e-4c96-c78f-6938e0bc6df8"
      },
      "source": [
        "location_count = cleaned_df.select('userId','location','churn').distinct().groupby('location','churn').count().toPandas().sort_values(by='count')\n",
        "fig = plt.figure(figsize=(20,7))\n",
        "ax = fig.gca()\n",
        "location_count.pivot(index='location', columns='churn', values='count').plot(kind='bar', ax=ax)"
      ],
      "execution_count": null,
      "outputs": [
        {
          "output_type": "execute_result",
          "execution_count": 32,
          "data": {
            "text/plain": "<matplotlib.axes._subplots.AxesSubplot at 0x7f07f4ede6d0>"
          },
          "metadata": {}
        },
        {
          "output_type": "display_data",
          "data": {
            "text/plain": "<Figure size 1440x504 with 1 Axes>",
            "image/png": "[encoded data removed]"
          },
          "metadata": {
            "needs_background": "light"
          }
        }
      ]
    },
    {
      "cell_type": "code",
      "metadata": {
        "id": "qTw28zobRcOK",
        "outputId": "8832477b-e86c-4825-e9f5-dfbdcf6a017a"
      },
      "source": [
        "userAgent_count = cleaned_df.select('userId','userAgent','churn').distinct().groupby('userAgent','churn').count().toPandas().sort_values(by='count')\n",
        "fig = plt.figure(figsize=(15,8))\n",
        "ax = fig.gca()\n",
        "userAgent_count.pivot(index='userAgent', columns='churn', values='count').plot(kind='bar', ax=ax, rot=45)"
      ],
      "execution_count": null,
      "outputs": [
        {
          "output_type": "execute_result",
          "execution_count": 33,
          "data": {
            "text/plain": "<matplotlib.axes._subplots.AxesSubplot at 0x7f07eca76410>"
          },
          "metadata": {}
        },
        {
          "output_type": "display_data",
          "data": {
            "text/plain": "<Figure size 1080x576 with 1 Axes>",
            "image/png": "[encoded data removed]"
          },
          "metadata": {
            "needs_background": "light"
          }
        }
      ]
    },
    {
      "cell_type": "markdown",
      "metadata": {
        "id": "mExSUhq8RcOK"
      },
      "source": [
        "# Features Selection"
      ]
    },
    {
      "cell_type": "code",
      "metadata": {
        "id": "sCq7v5R3RcOK"
      },
      "source": [
        "churn_df = create_churn_label(df)\n",
        "cleaned_df = clean_data(churn_df)\n",
        "nonpage_df = create_nonpage_features(cleaned_df)\n",
        "page_df = create_page_features(cleaned_df)\n",
        "session_df = create_session_features(cleaned_df)"
      ],
      "execution_count": null,
      "outputs": []
    },
    {
      "cell_type": "code",
      "metadata": {
        "id": "9P8CNuLNRcOL",
        "outputId": "59521dfa-0a29-4c06-f9ad-dc35d16d4cc7"
      },
      "source": [
        "combined_df = features_combine(cleaned_df, nonpage_df, page_df, session_df)\n",
        "combined_df.printSchema()"
      ],
      "execution_count": null,
      "outputs": [
        {
          "output_type": "stream",
          "text": "root\n |-- label: integer (nullable = false)\n |-- gender: string (nullable = true)\n |-- location: string (nullable = true)\n |-- userAgent: string (nullable = true)\n |-- last_interaction: long (nullable = true)\n |-- registered_days: integer (nullable = true)\n |-- acc_level: string (nullable = true)\n |-- avg_length: double (nullable = true)\n |-- daily_avg_Settings: double (nullable = false)\n |-- daily_avg_Add Friend: double (nullable = false)\n |-- daily_avg_Thumbs Down: double (nullable = false)\n |-- daily_avg_Downgrade: double (nullable = false)\n |-- daily_avg_Submit Upgrade: double (nullable = false)\n |-- daily_avg_Roll Advert: double (nullable = false)\n |-- daily_avg_NextSong: double (nullable = false)\n |-- daily_avg_Error: double (nullable = false)\n |-- daily_avg_About: double (nullable = false)\n |-- daily_avg_Upgrade: double (nullable = false)\n |-- daily_avg_Add to Playlist: double (nullable = false)\n |-- daily_avg_Home: double (nullable = false)\n |-- daily_avg_Thumbs Up: double (nullable = false)\n |-- daily_avg_Logout: double (nullable = false)\n |-- daily_avg_Submit Downgrade: double (nullable = false)\n |-- daily_avg_Cancellation Confirmation: double (nullable = false)\n |-- daily_avg_Save Settings: double (nullable = false)\n |-- daily_avg_Help: double (nullable = false)\n |-- monthly_avg_Settings: double (nullable = false)\n |-- monthly_avg_Add Friend: double (nullable = false)\n |-- monthly_avg_Thumbs Down: double (nullable = false)\n |-- monthly_avg_Downgrade: double (nullable = false)\n |-- monthly_avg_Submit Upgrade: double (nullable = false)\n |-- monthly_avg_Roll Advert: double (nullable = false)\n |-- monthly_avg_NextSong: double (nullable = false)\n |-- monthly_avg_Error: double (nullable = false)\n |-- monthly_avg_About: double (nullable = false)\n |-- monthly_avg_Upgrade: double (nullable = false)\n |-- monthly_avg_Add to Playlist: double (nullable = false)\n |-- monthly_avg_Home: double (nullable = false)\n |-- monthly_avg_Thumbs Up: double (nullable = false)\n |-- monthly_avg_Logout: double (nullable = false)\n |-- monthly_avg_Submit Downgrade: double (nullable = false)\n |-- monthly_avg_Cancellation Confirmation: double (nullable = false)\n |-- monthly_avg_Save Settings: double (nullable = false)\n |-- monthly_avg_Help: double (nullable = false)\n |-- daily_avg_sessions_count: double (nullable = true)\n |-- monthly_avg_sessions_count: double (nullable = true)\n |-- daily_avg_sessions_duration: double (nullable = true)\n |-- monthly_avg_sessions_duration: double (nullable = true)\n |-- daily_avg_sessions_items: double (nullable = true)\n |-- monthly_avg_sessions_items: double (nullable = true)\n\n",
          "name": "stdout"
        }
      ]
    },
    {
      "cell_type": "code",
      "metadata": {
        "id": "S9GOZ7K6RcOL",
        "outputId": "3c4b3076-9798-4d07-eb99-64a0b7ce987e"
      },
      "source": [
        "print((combined_df.count(), len(combined_df.columns)))"
      ],
      "execution_count": null,
      "outputs": [
        {
          "output_type": "stream",
          "text": "(225, 50)\n",
          "name": "stdout"
        }
      ]
    },
    {
      "cell_type": "code",
      "metadata": {
        "id": "pZ0x5-qeRcOL",
        "outputId": "fff31f5c-9da7-43e6-8f07-716f941ecf4b"
      },
      "source": [
        "pd.DataFrame(combined_df.take(5), columns=combined_df.columns)"
      ],
      "execution_count": null,
      "outputs": [
        {
          "output_type": "execute_result",
          "execution_count": 38,
          "data": {
            "text/plain": "   label gender   location  userAgent  last_interaction  registered_days  \\\n0      0      M         CA    Windows     1543515959000               77   \n1      1      M         CA  Macintosh     1542181031000               60   \n2      0      M         NH        X11     1543490925000               71   \n3      0      M      MO-IL        X11     1543335647000               75   \n4      1      M   IL-IN-WI  Macintosh     1541100900000               43   \n\n  acc_level  avg_length  daily_avg_Settings  daily_avg_Add Friend  ...  \\\n0      free  255.828061            1.333333              1.500000  ...   \n1      paid  249.180173            1.266667              3.357143  ...   \n2      paid  250.524328            1.642857              2.944444  ...   \n3      free  244.107080            1.000000              2.166667  ...   \n4      free  242.654103            0.000000              1.000000  ...   \n\n   monthly_avg_Submit Downgrade  monthly_avg_Cancellation Confirmation  \\\n0                           0.0                                    0.0   \n1                           0.0                                    1.0   \n2                           0.0                                    0.0   \n3                           1.0                                    0.0   \n4                           1.0                                    1.0   \n\n   monthly_avg_Save Settings  monthly_avg_Help  daily_avg_sessions_count  \\\n0                        0.0               2.0                  1.000000   \n1                        4.0              14.0                  1.517241   \n2                        3.5               6.5                  1.125000   \n3                        0.0               3.0                  1.000000   \n4                        0.0               2.0                  1.142857   \n\n   monthly_avg_sessions_count  daily_avg_sessions_duration  \\\n0                         4.0                 11550.125000   \n1                        17.5                 20307.833333   \n2                        11.5                 20399.291667   \n3                         4.5                 12687.100000   \n4                         3.5                 16226.500000   \n\n   monthly_avg_sessions_duration  daily_avg_sessions_items  \\\n0                   11550.125000                 42.625000   \n1                   21214.731481                167.206897   \n2                   24605.900000                131.541667   \n3                   14584.850000                 79.000000   \n4                   15400.333333                107.428571   \n\n   monthly_avg_sessions_items  \n0                        72.0  \n1                       575.5  \n2                       301.5  \n3                       225.0  \n4                       144.5  \n\n[5 rows x 50 columns]",
            "text/html": "<div>\n<style scoped>\n    .dataframe tbody tr th:only-of-type {\n        vertical-align: middle;\n    }\n\n    .dataframe tbody tr th {\n        vertical-align: top;\n    }\n\n    .dataframe thead th {\n        text-align: right;\n    }\n</style>\n<table border=\"1\" class=\"dataframe\">\n  <thead>\n    <tr style=\"text-align: right;\">\n      <th></th>\n      <th>label</th>\n      <th>gender</th>\n      <th>location</th>\n      <th>userAgent</th>\n      <th>last_interaction</th>\n      <th>registered_days</th>\n      <th>acc_level</th>\n      <th>avg_length</th>\n      <th>daily_avg_Settings</th>\n      <th>daily_avg_Add Friend</th>\n      <th>...</th>\n      <th>monthly_avg_Submit Downgrade</th>\n      <th>monthly_avg_Cancellation Confirmation</th>\n      <th>monthly_avg_Save Settings</th>\n      <th>monthly_avg_Help</th>\n      <th>daily_avg_sessions_count</th>\n      <th>monthly_avg_sessions_count</th>\n      <th>daily_avg_sessions_duration</th>\n      <th>monthly_avg_sessions_duration</th>\n      <th>daily_avg_sessions_items</th>\n      <th>monthly_avg_sessions_items</th>\n    </tr>\n  </thead>\n  <tbody>\n    <tr>\n      <th>0</th>\n      <td>0</td>\n      <td>M</td>\n      <td>CA</td>\n      <td>Windows</td>\n      <td>1543515959000</td>\n      <td>77</td>\n      <td>free</td>\n      <td>255.828061</td>\n      <td>1.333333</td>\n      <td>1.500000</td>\n      <td>...</td>\n      <td>0.0</td>\n      <td>0.0</td>\n      <td>0.0</td>\n      <td>2.0</td>\n      <td>1.000000</td>\n      <td>4.0</td>\n      <td>11550.125000</td>\n      <td>11550.125000</td>\n      <td>42.625000</td>\n      <td>72.0</td>\n    </tr>\n    <tr>\n      <th>1</th>\n      <td>1</td>\n      <td>M</td>\n      <td>CA</td>\n      <td>Macintosh</td>\n      <td>1542181031000</td>\n      <td>60</td>\n      <td>paid</td>\n      <td>249.180173</td>\n      <td>1.266667</td>\n      <td>3.357143</td>\n      <td>...</td>\n      <td>0.0</td>\n      <td>1.0</td>\n      <td>4.0</td>\n      <td>14.0</td>\n      <td>1.517241</td>\n      <td>17.5</td>\n      <td>20307.833333</td>\n      <td>21214.731481</td>\n      <td>167.206897</td>\n      <td>575.5</td>\n    </tr>\n    <tr>\n      <th>2</th>\n      <td>0</td>\n      <td>M</td>\n      <td>NH</td>\n      <td>X11</td>\n      <td>1543490925000</td>\n      <td>71</td>\n      <td>paid</td>\n      <td>250.524328</td>\n      <td>1.642857</td>\n      <td>2.944444</td>\n      <td>...</td>\n      <td>0.0</td>\n      <td>0.0</td>\n      <td>3.5</td>\n      <td>6.5</td>\n      <td>1.125000</td>\n      <td>11.5</td>\n      <td>20399.291667</td>\n      <td>24605.900000</td>\n      <td>131.541667</td>\n      <td>301.5</td>\n    </tr>\n    <tr>\n      <th>3</th>\n      <td>0</td>\n      <td>M</td>\n      <td>MO-IL</td>\n      <td>X11</td>\n      <td>1543335647000</td>\n      <td>75</td>\n      <td>free</td>\n      <td>244.107080</td>\n      <td>1.000000</td>\n      <td>2.166667</td>\n      <td>...</td>\n      <td>1.0</td>\n      <td>0.0</td>\n      <td>0.0</td>\n      <td>3.0</td>\n      <td>1.000000</td>\n      <td>4.5</td>\n      <td>12687.100000</td>\n      <td>14584.850000</td>\n      <td>79.000000</td>\n      <td>225.0</td>\n    </tr>\n    <tr>\n      <th>4</th>\n      <td>1</td>\n      <td>M</td>\n      <td>IL-IN-WI</td>\n      <td>Macintosh</td>\n      <td>1541100900000</td>\n      <td>43</td>\n      <td>free</td>\n      <td>242.654103</td>\n      <td>0.000000</td>\n      <td>1.000000</td>\n      <td>...</td>\n      <td>1.0</td>\n      <td>1.0</td>\n      <td>0.0</td>\n      <td>2.0</td>\n      <td>1.142857</td>\n      <td>3.5</td>\n      <td>16226.500000</td>\n      <td>15400.333333</td>\n      <td>107.428571</td>\n      <td>144.5</td>\n    </tr>\n  </tbody>\n</table>\n<p>5 rows × 50 columns</p>\n</div>"
          },
          "metadata": {}
        }
      ]
    },
    {
      "cell_type": "code",
      "metadata": {
        "id": "zK3RxMCkPnDM",
        "outputId": "235971c0-35ff-4750-ec5c-e39be79576c3"
      },
      "source": [
        "preprocessed_df = preprocess_data(combined_df)\n",
        "preprocessed_df.printSchema()"
      ],
      "execution_count": null,
      "outputs": [
        {
          "output_type": "stream",
          "text": "StringIndexer Created\n...\n['last_interaction', 'registered_days', 'avg_length', 'daily_avg_Settings', 'daily_avg_Add Friend', 'daily_avg_Thumbs Down', 'daily_avg_Downgrade', 'daily_avg_Submit Upgrade', 'daily_avg_Roll Advert', 'daily_avg_NextSong', 'daily_avg_Error', 'daily_avg_About', 'daily_avg_Upgrade', 'daily_avg_Add to Playlist', 'daily_avg_Home', 'daily_avg_Thumbs Up', 'daily_avg_Logout', 'daily_avg_Submit Downgrade', 'daily_avg_Cancellation Confirmation', 'daily_avg_Save Settings', 'daily_avg_Help', 'monthly_avg_Settings', 'monthly_avg_Add Friend', 'monthly_avg_Thumbs Down', 'monthly_avg_Downgrade', 'monthly_avg_Submit Upgrade', 'monthly_avg_Roll Advert', 'monthly_avg_NextSong', 'monthly_avg_Error', 'monthly_avg_About', 'monthly_avg_Upgrade', 'monthly_avg_Add to Playlist', 'monthly_avg_Home', 'monthly_avg_Thumbs Up', 'monthly_avg_Logout', 'monthly_avg_Submit Downgrade', 'monthly_avg_Cancellation Confirmation', 'monthly_avg_Save Settings', 'monthly_avg_Help', 'daily_avg_sessions_count', 'monthly_avg_sessions_count', 'daily_avg_sessions_duration', 'monthly_avg_sessions_duration', 'daily_avg_sessions_items', 'monthly_avg_sessions_items', 'userAgent_index', 'gender_index', 'location_index', 'acc_level_index'] CHECKED\n...\nroot\n |-- label: integer (nullable = false)\n |-- gender: string (nullable = true)\n |-- location: string (nullable = true)\n |-- userAgent: string (nullable = true)\n |-- last_interaction: long (nullable = true)\n |-- registered_days: integer (nullable = true)\n |-- acc_level: string (nullable = true)\n |-- avg_length: double (nullable = true)\n |-- daily_avg_Settings: double (nullable = false)\n |-- daily_avg_Add Friend: double (nullable = false)\n |-- daily_avg_Thumbs Down: double (nullable = false)\n |-- daily_avg_Downgrade: double (nullable = false)\n |-- daily_avg_Submit Upgrade: double (nullable = false)\n |-- daily_avg_Roll Advert: double (nullable = false)\n |-- daily_avg_NextSong: double (nullable = false)\n |-- daily_avg_Error: double (nullable = false)\n |-- daily_avg_About: double (nullable = false)\n |-- daily_avg_Upgrade: double (nullable = false)\n |-- daily_avg_Add to Playlist: double (nullable = false)\n |-- daily_avg_Home: double (nullable = false)\n |-- daily_avg_Thumbs Up: double (nullable = false)\n |-- daily_avg_Logout: double (nullable = false)\n |-- daily_avg_Submit Downgrade: double (nullable = false)\n |-- daily_avg_Cancellation Confirmation: double (nullable = false)\n |-- daily_avg_Save Settings: double (nullable = false)\n |-- daily_avg_Help: double (nullable = false)\n |-- monthly_avg_Settings: double (nullable = false)\n |-- monthly_avg_Add Friend: double (nullable = false)\n |-- monthly_avg_Thumbs Down: double (nullable = false)\n |-- monthly_avg_Downgrade: double (nullable = false)\n |-- monthly_avg_Submit Upgrade: double (nullable = false)\n |-- monthly_avg_Roll Advert: double (nullable = false)\n |-- monthly_avg_NextSong: double (nullable = false)\n |-- monthly_avg_Error: double (nullable = false)\n |-- monthly_avg_About: double (nullable = false)\n |-- monthly_avg_Upgrade: double (nullable = false)\n |-- monthly_avg_Add to Playlist: double (nullable = false)\n |-- monthly_avg_Home: double (nullable = false)\n |-- monthly_avg_Thumbs Up: double (nullable = false)\n |-- monthly_avg_Logout: double (nullable = false)\n |-- monthly_avg_Submit Downgrade: double (nullable = false)\n |-- monthly_avg_Cancellation Confirmation: double (nullable = false)\n |-- monthly_avg_Save Settings: double (nullable = false)\n |-- monthly_avg_Help: double (nullable = false)\n |-- daily_avg_sessions_count: double (nullable = true)\n |-- monthly_avg_sessions_count: double (nullable = true)\n |-- daily_avg_sessions_duration: double (nullable = true)\n |-- monthly_avg_sessions_duration: double (nullable = true)\n |-- daily_avg_sessions_items: double (nullable = true)\n |-- monthly_avg_sessions_items: double (nullable = true)\n |-- userAgent_index: double (nullable = false)\n |-- gender_index: double (nullable = false)\n |-- location_index: double (nullable = false)\n |-- acc_level_index: double (nullable = false)\n |-- features: vector (nullable = true)\n\n",
          "name": "stdout"
        }
      ]
    },
    {
      "cell_type": "markdown",
      "metadata": {
        "id": "-GDtxkpBRcOL"
      },
      "source": [
        "# Modeling"
      ]
    },
    {
      "cell_type": "code",
      "metadata": {
        "id": "VdA7CL5-RcOL"
      },
      "source": [
        "train, test_valid = preprocessed_df.randomSplit([0.7, 0.3], seed=42)\n",
        "test, valid = test_valid.randomSplit([0.5, 0.5], seed=42)"
      ],
      "execution_count": null,
      "outputs": []
    },
    {
      "cell_type": "code",
      "metadata": {
        "id": "zcjorDAX6oQ8",
        "outputId": "0a67f4cf-dcb5-42b5-c27f-386eee0231b1"
      },
      "source": [
        "lr_model, lr_pred_train, lr_pred_test, lr_pred_valid = train_models(train, test, valid, \n",
        "                                                                    LogisticRegression(maxIter=10, labelCol=\"label\"))"
      ],
      "execution_count": null,
      "outputs": [
        {
          "output_type": "stream",
          "text": "Training model\n...\nMetrics:\n...\nTrain - Accuracy: 83.67% and F-1 Score: 76.24%\nTest - Accuracy: 77.36% and F-1 Score: 71.05%\nValid - Accuracy: 75.93% and F-1 Score: 70.54%\n",
          "name": "stdout"
        }
      ]
    },
    {
      "cell_type": "code",
      "metadata": {
        "id": "lZ9fOtz76oQ8",
        "outputId": "0a8c13b3-4fb9-477d-f6f1-d01ce23e9655"
      },
      "source": [
        "gbt_model, gbt_pred_train, gbt_pred_test, gbt_pred_valid = train_models(train, test, valid, \n",
        "                                                                        GBTClassifier(maxIter=10, maxBins=100, labelCol=\"label\"))"
      ],
      "execution_count": null,
      "outputs": [
        {
          "output_type": "stream",
          "text": "Training model\n...\nMetrics:\n...\nTrain - Accuracy: 93.72% and F-1 Score: 91.01%\nTest - Accuracy: 90.36% and F-1 Score: 87.93%\nValid - Accuracy: 91.88% and F-1 Score: 88.44%\n",
          "name": "stdout"
        }
      ]
    },
    {
      "cell_type": "code",
      "metadata": {
        "id": "-c6vrTX-6oQ9",
        "outputId": "5398d1bb-249c-409d-84b9-ac34b424fb09"
      },
      "source": [
        "rf_model, rf_pred_train, rf_pred_test, rf_pred_valid = train_models(train, test, valid, \n",
        "                                                                    RandomForestClassifier(numTrees=60, maxDepth=10, maxBins=100, featuresCol='features', labelCol=\"label\"))"
      ],
      "execution_count": null,
      "outputs": [
        {
          "output_type": "stream",
          "text": "Training model\n...\nMetrics:\n...\nTrain - Accuracy: 97.50% and F-1 Score: 94.09%\nTest - Accuracy: 92.36% and F-1 Score: 90.05%\nValid - Accuracy: 93.45% and F-1 Score: 91.33%\n",
          "name": "stdout"
        }
      ]
    },
    {
      "cell_type": "markdown",
      "metadata": {
        "id": "PmbJ2vbIg0NC"
      },
      "source": [
        "# Conclusion"
      ]
    },
    {
      "cell_type": "markdown",
      "metadata": {
        "id": "ZFP3PURY6oQ9"
      },
      "source": [
        "### Summary"
      ]
    },
    {
      "cell_type": "markdown",
      "metadata": {
        "id": "he-KukvQMPW1"
      },
      "source": [
        "In this notebook, we implemented a model to predict customer churn for Sparkify.\n",
        " \n",
        "In the process of cleaning data, first we create a churn data column then we remove rows with Auth column value = 'Logged Out' or 'Guest' to remove the cause of missing value in other columns. We also convert unix timestamp into datetime timestamp and clean all string columns into a format that can be used with machine learning models.\n",
        " \n",
        "Many features were built for our model, we separated our features into 2 groups. First, behavioral features, these features created by calculating mean of page visit or active session length for daily and monthly time frame. Second, identity features contain data that can identify customers such as gender, location, and device.\n",
        " \n",
        "We selected 3 models: Logistic Regression, Gradient Boosting Tree Classifier, and Random Forest Classifier to predict churn, in the end we selected Random Forest Classifier as the final model implemented for predicting final result because of the highest F1 score.\n",
        " \n",
        "For preparing data and to push to the model, we used StringIndexer and VectorAssembler which are label indexers that map a string column of labels to an ML column of label indices and a transformer that combines a given list of columns into a single vector column. Since the churned users are a fairly small subset, we use F1 score as the metric to optimize."
      ]
    },
    {
      "cell_type": "markdown",
      "metadata": {
        "id": "AAFiVF9IPXJe"
      },
      "source": [
        "### Reflections from this project"
      ]
    },
    {
      "cell_type": "markdown",
      "metadata": {
        "id": "QBtyQUrwc1zr"
      },
      "source": [
        "This project gave exposure to the spark environment to analyze a large volume of data that a personal laptop may not be capable to analyze. By identifying customers with a high chance to churn prior to the actual losing, companies are able to use minimal cost to save customers by using targeted messages and offers.\n",
        "\n",
        "One of the interesting yet difficult things during the project is trying to create the multiple features that we can derive from the data we have on hand. Developing useful features is crucial to developing a good model, and requires a lot of energy and efforts. Explanatory and exploratory data analysis also play an important role in this process. In the end I achieved an impressive goal and improved both of my SQL and Machine Learning skills a lot."
      ]
    },
    {
      "cell_type": "markdown",
      "metadata": {
        "id": "wSZog1aafSMx"
      },
      "source": [
        "### Improvement"
      ]
    },
    {
      "cell_type": "markdown",
      "metadata": {
        "id": "iu8u56AxfeMy"
      },
      "source": [
        "The features can be improved a lot after considering more factors, adding more domain knowledge and expertise. Although the volume of data may require tools such as spark to analyze, we can use more data to have better results as the user base grows. I also implement a model tuning function, if you really want to improve accuracy you can try out tune_models(train, test, valid, ml) function that can be used for tuning each hyper-parameter for a better model performance.\n"
      ]
    },
    {
      "cell_type": "markdown",
      "metadata": {
        "id": "0rbEGqcehho2"
      },
      "source": [
        "### How to avoid churn in future?"
      ]
    },
    {
      "cell_type": "markdown",
      "metadata": {
        "id": "RHrdftFthvyK"
      },
      "source": [
        "Once we identify who is going to be a churn customer with a prediction model we can take some action to stop them from getting churned.\n",
        "\n",
        "\n",
        "*   Running some promotional offers for attracting these targeted users.\n",
        "*   Finding out what is the root cause of those users not liking our product and improving those root cases. </br>*Eg: UI changes, Price for the subscription changes*\n"
      ]
    }
  ]
}